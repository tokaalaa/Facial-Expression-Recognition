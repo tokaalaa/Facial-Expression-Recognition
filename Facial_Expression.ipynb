{
  "nbformat": 4,
  "nbformat_minor": 0,
  "metadata": {
    "colab": {
      "name": "Facial Expression.ipynb",
      "provenance": [],
      "collapsed_sections": [
        "-tn_07MVoTKF",
        "19Kft75kjGbh",
        "KNQDWC4yKb-7",
        "dRsyDzEYKJcH",
        "gFFC7MSFdLIG",
        "hfBF31QzdDcP",
        "BLRUgjhdc53c",
        "PlUKXGBSeB4y",
        "MRHgqeVweNA3",
        "ws6yT4vDetqC"
      ],
      "include_colab_link": true
    },
    "kernelspec": {
      "name": "python3",
      "display_name": "Python 3"
    },
    "accelerator": "GPU"
  },
  "cells": [
    {
      "cell_type": "markdown",
      "metadata": {
        "id": "view-in-github",
        "colab_type": "text"
      },
      "source": [
        "<a href=\"https://colab.research.google.com/github/tokaalaa/Facial-Expression-Recognition/blob/main/Facial_Expression.ipynb\" target=\"_parent\"><img src=\"https://colab.research.google.com/assets/colab-badge.svg\" alt=\"Open In Colab\"/></a>"
      ]
    },
    {
      "cell_type": "markdown",
      "metadata": {
        "id": "6ijuWE5vgNak"
      },
      "source": [
        "# Imports"
      ]
    },
    {
      "cell_type": "code",
      "metadata": {
        "id": "9C9xtU_TAfAr"
      },
      "source": [
        "# Import the dependencies \n",
        "import numpy as np  #for numpy array\n",
        "import pylab as pl #to form and resize our image\n",
        "from PIL import Image  #to deal with image\n",
        "# reshape numyArray from 3D matrice to 2D matrice \n",
        "import numpy as gfg \n",
        "import matplotlib.image as img \n",
        "#for convert to RGB\n",
        "from collections import defaultdict\n",
        "import pprint\n",
        "#for category of Y\n",
        "from keras.utils import to_categorical\n",
        "#for splitting data\n",
        "from sklearn.model_selection import train_test_split\n",
        "from matplotlib import pyplot as plt\n"
      ],
      "execution_count": null,
      "outputs": []
    },
    {
      "cell_type": "markdown",
      "metadata": {
        "id": "lD4ma8GVggkT"
      },
      "source": [
        "# Load Data"
      ]
    },
    {
      "cell_type": "code",
      "metadata": {
        "id": "fxwDg9SMCaH_",
        "outputId": "55921867-847b-4e7f-e0dd-7e86e9a3fd35",
        "colab": {
          "base_uri": "https://localhost:8080/",
          "height": 34
        }
      },
      "source": [
        "from google.colab import drive\n",
        "drive.mount('/content/drive', force_remount=True)"
      ],
      "execution_count": null,
      "outputs": [
        {
          "output_type": "stream",
          "text": [
            "Mounted at /content/drive\n"
          ],
          "name": "stdout"
        }
      ]
    },
    {
      "cell_type": "code",
      "metadata": {
        "id": "BNTXSA43FtgJ"
      },
      "source": [
        "# get the data\n",
        "filname = '../content/drive/My Drive/Facial/fer2013.csv'\n",
        "#red date\n",
        "#import pandas as pd\n",
        "#names=['emotion','pixels','usage']\n",
        "#df=pd.read_csv(filname,names=names, na_filter=False)\n",
        "#im=df['pixels']\n",
        "#df.head(800)"
      ],
      "execution_count": null,
      "outputs": []
    },
    {
      "cell_type": "markdown",
      "metadata": {
        "id": "-tn_07MVoTKF"
      },
      "source": [
        "# Get data"
      ]
    },
    {
      "cell_type": "code",
      "metadata": {
        "id": "75IlkQDXCKBN"
      },
      "source": [
        "def getData(filname):\n",
        "    # images are 48x48\n",
        "    # N = 35887\n",
        "    Y = []\n",
        "    X = []\n",
        "    first = True\n",
        "    for line in open(filname):\n",
        "        if first:\n",
        "            first = False\n",
        "        else:\n",
        "            row = line.split(',')\n",
        "            Y.append(int(row[0]))\n",
        "            X.append([int(p) for p in row[1].split()])\n",
        "\n",
        "    X, Y = np.array(X), np.array(Y)\n",
        "    return X, Y\n",
        "\n",
        "\n",
        "X, Y = getData(filname)\n",
        "#reshape our date\n",
        "#N, D = X.shape\n",
        "X = X.reshape(35887, 48, 48)"
      ],
      "execution_count": null,
      "outputs": []
    },
    {
      "cell_type": "code",
      "metadata": {
        "id": "ypVv5Xv-SQ1E"
      },
      "source": [
        "#This is one example for resize one image\n",
        "#imgObj = Image.fromarray((X[0] * 255).astype(np.uint8))  #convert matrix to Image object\n",
        "#resized_imgObj = imgObj.resize((192,192))  #resize Image object\n",
        "#display(imgObj)\n",
        "#display(resized_imgObj)\n",
        "#resized_matrix = np.asarray(resized_imgObj)  #convert Image object to matrix"
      ],
      "execution_count": null,
      "outputs": []
    },
    {
      "cell_type": "code",
      "metadata": {
        "id": "AGx9i3nqOBj4"
      },
      "source": [
        "#To convert DataSet to numyarray to deal with it\n",
        "#resized_matrix = np.array(resized_matrix)\n",
        "    \n",
        "# reshape it from 3D matrice to 2D matrice \n",
        "#imageMat_reshape = resized_matrix.reshape(resized_matrix.shape[0], -1) \n",
        "#print(\"Reshaping to 2D array:\", imageMat_reshape.shape) \n",
        "\n",
        " # saving matrice to .csv file \n",
        "#gfg.savetxt('geek.csv', imageMat_reshape) \n",
        "\n",
        " # retrieving matrice from the .csv file \n",
        "#loaded_2D_mat = gfg.loadtxt('geek.csv') \n",
        "  \n",
        "# reshaping it to 3D matrice \n",
        "#loaded_mat = loaded_2D_mat.reshape(N, W, H)\n",
        "  \n",
        "#print(loaded_2D_mat[0]) \n",
        "\n",
        "#w, h = 512, 512\n",
        "#data = np.zeros((h, w, 3), dtype=np.uint8)\n",
        "#data[0:256, 0:256] = [255, 0, 0] # red patch in upper left\n",
        "#img = Image.fromarray(data, 'RGB')\n",
        "#img.save('my.png')\n",
        "#img.show()"
      ],
      "execution_count": null,
      "outputs": []
    },
    {
      "cell_type": "code",
      "metadata": {
        "id": "mYifc_PaknSJ"
      },
      "source": [
        "#This loop to resize our data set and save Image object to matrix DataSet\n",
        "DataSet = []\n",
        "#N = 17000\n",
        "N = 35887\n",
        "W = 75\n",
        "H = 75\n",
        "for i in range(N):\n",
        "  imgObj = Image.fromarray((X[i] * 255).astype(np.uint8))  #convert matrix to Image object\n",
        "  imgObj = imgObj.resize((W,H))  #resize Image object\n",
        "  imgObj = imgObj.convert(\"RGB\") #convert to RGB \n",
        "  imgObj = np.asarray(imgObj)  #convert Image object to matrix\n",
        "  DataSet.append(imgObj)\n"
      ],
      "execution_count": null,
      "outputs": []
    },
    {
      "cell_type": "code",
      "metadata": {
        "id": "1qDz-VYE18kw"
      },
      "source": [
        "#To convert DataSet to numyarray to deal with it\n",
        "#DataSet = np.array(DataSet) /127.5\n",
        "#DataSet = DataSet - 1.\n",
        "DataSet = np.array(DataSet) /225.0\n",
        "\n",
        "# reshape it from 3D matrice to 2D matrice \n",
        "#imageMat_reshape = DataSet.reshape(DataSet.shape[0], -1) \n",
        "#print(\"Reshaping to 2D array:\", imageMat_reshape.shape) \n",
        "\n",
        " # saving matrice to .csv file \n",
        "#gfg.savetxt('geek.csv', imageMat_reshape) \n",
        "\n",
        " # retrieving matrice from the .csv file \n",
        "#loaded_2D_mat = gfg.loadtxt('geek.csv') \n",
        "  \n",
        "# reshaping it to 3D matrice \n",
        "#loaded_mat = loaded_2D_mat.reshape(N, W, H)\n",
        "  \n",
        "#print(loaded_2D_mat[0]) \n"
      ],
      "execution_count": null,
      "outputs": []
    },
    {
      "cell_type": "code",
      "metadata": {
        "id": "ftlhw8FJFyzv"
      },
      "source": [
        "Y = to_categorical(Y[0:N])\n",
        "#X = DataSet\n"
      ],
      "execution_count": null,
      "outputs": []
    },
    {
      "cell_type": "markdown",
      "metadata": {
        "id": "19Kft75kjGbh"
      },
      "source": [
        "# Split data"
      ]
    },
    {
      "cell_type": "code",
      "metadata": {
        "id": "qv2dJpw-jfnj"
      },
      "source": [
        "X, X_test, Y, y_test = train_test_split(DataSet, Y, test_size=0.1, random_state=0)\n",
        "X, X_val, Y, y_val = train_test_split(X, Y, test_size=0.1, random_state=0)"
      ],
      "execution_count": null,
      "outputs": []
    },
    {
      "cell_type": "code",
      "metadata": {
        "id": "KOwSIBtiJetJ"
      },
      "source": [
        "print(len(X))\n",
        "print(len(X_val))\n"
      ],
      "execution_count": null,
      "outputs": []
    },
    {
      "cell_type": "code",
      "metadata": {
        "id": "fxQYvanRjmGP"
      },
      "source": [
        "#X_train = X[0:28709]\n",
        "#Y_train = Y[0:28709]\n",
        "#X_val = X[28709:32298]\n",
        "#Y_val = Y[28709:32298]\n",
        "#X_test = X[32298:]\n",
        "#Y_test = Y[32298:]"
      ],
      "execution_count": null,
      "outputs": []
    },
    {
      "cell_type": "markdown",
      "metadata": {
        "id": "Saw3xEeygGf4"
      },
      "source": [
        "# Inception Model\n",
        "\n"
      ]
    },
    {
      "cell_type": "markdown",
      "metadata": {
        "id": "Xqagkg_4pEbI"
      },
      "source": [
        "##Get Date\n"
      ]
    },
    {
      "cell_type": "code",
      "metadata": {
        "id": "xrBPYU3JpKVg",
        "outputId": "c6c2b91c-8d66-4a26-b345-0686ea9399c1",
        "colab": {
          "base_uri": "https://localhost:8080/",
          "height": 265
        }
      },
      "source": [
        "!pip install import-ipynb\n",
        "%cd \"/content/drive/My Drive/Facial\"\n",
        "import import_ipynb\n",
        "\n",
        "import Data as loader\n",
        "\n",
        "dataLoader = loader.DataLoader()"
      ],
      "execution_count": null,
      "outputs": [
        {
          "output_type": "stream",
          "text": [
            "Collecting import-ipynb\n",
            "  Downloading https://files.pythonhosted.org/packages/63/35/495e0021bfdcc924c7cdec4e9fbb87c88dd03b9b9b22419444dc370c8a45/import-ipynb-0.1.3.tar.gz\n",
            "Building wheels for collected packages: import-ipynb\n",
            "  Building wheel for import-ipynb (setup.py) ... \u001b[?25l\u001b[?25hdone\n",
            "  Created wheel for import-ipynb: filename=import_ipynb-0.1.3-cp36-none-any.whl size=2976 sha256=214e4a8c123975fc721a929a8c0ca0b740800128c44f0e018c737221b39e51f0\n",
            "  Stored in directory: /root/.cache/pip/wheels/b4/7b/e9/a3a6e496115dffdb4e3085d0ae39ffe8a814eacc44bbf494b5\n",
            "Successfully built import-ipynb\n",
            "Installing collected packages: import-ipynb\n",
            "Successfully installed import-ipynb-0.1.3\n",
            "/content/drive/My Drive/Facial\n",
            "importing Jupyter notebook from Copy_of_Data.ipynb\n",
            "Drive already mounted at /content/drive; to attempt to forcibly remount, call drive.mount(\"/content/drive\", force_remount=True).\n",
            "Downloaded https://tfhub.dev/captain-pool/esrgan-tf2/1, Total size: 20.60MB\n",
            "\n"
          ],
          "name": "stdout"
        }
      ]
    },
    {
      "cell_type": "markdown",
      "metadata": {
        "id": "MljlRoXenkyu"
      },
      "source": [
        "\n",
        "\n",
        "## Build Model"
      ]
    },
    {
      "cell_type": "code",
      "metadata": {
        "id": "TzDzTKxXxPDj",
        "outputId": "e6fdc9f4-e4dc-4567-ebec-0e1690ac1f4a",
        "colab": {
          "base_uri": "https://localhost:8080/",
          "height": 52
        }
      },
      "source": [
        "#InceptionV3\n",
        "from tensorflow.keras.applications.inception_v3 import InceptionV3\n",
        "from tensorflow.keras.models import Model\n",
        "from tensorflow.keras.layers import Dense, GlobalAveragePooling2D, Dropout\n",
        "from keras.optimizers import Adam\n",
        "from tensorflow import keras\n",
        "import tensorflow as tf\n",
        "\n",
        "N = 35887\n",
        "W = 75\n",
        "H = 75\n",
        "  # this could also be the output a different Keras model or layer\n",
        "\n",
        "base_model = InceptionV3(weights = 'imagenet', include_top = False, input_shape=(W, H, 3))\n",
        "  # add a global spatial average pooling layer\n",
        "x = base_model.output\n",
        "x = GlobalAveragePooling2D()(x)\n",
        "  # let's add a fully-connected layer\n",
        "x = tf.keras.layers.Dropout(0.5)(x)\n",
        "x = Dense(1024, activation='relu')(x)\n",
        "  # and a logistic layer\n",
        "predictions = Dense(7, activation='softmax')(x)\n",
        "model = Model(inputs=base_model.input, outputs=predictions)\n",
        "\n",
        "for layer in model.layers:\n",
        "  layer.trainable = True\n",
        "mycallbacks = [                                         # define the callbacks\n",
        "      keras.callbacks.ReduceLROnPlateau(                       # callback to reduce learning rate\n",
        "          monitor='val_loss',\n",
        "          factor = 0.1,\n",
        "          patience=3,\n",
        "          verbose=1,\n",
        "          min_lr=1e-8\n",
        "      ),\n",
        "      keras.callbacks.EarlyStopping(                          # callback to stop training if no improvement in validation_loss.\n",
        "        monitor='val_loss', \n",
        "        verbose=1,\n",
        "        patience= 5,\n",
        "        restore_best_weights=True\n",
        "        ),\n",
        "      keras.callbacks.ModelCheckpoint(                      # callback to save the best model if no improvement in validation_AUC.\n",
        "        monitor='val_accuracy',\n",
        "        filepath= \"/content/drive/My Drive/Facial/checkpoint/Inception_Dropout\",\n",
        "        save_best_only=True,\n",
        "        mode= 'max',\n",
        "        verbose=1\n",
        "        )\n",
        "    ]\n",
        "model.compile(optimizer   = Adam(lr = 1e-3, beta_1 = 0.9, beta_2 = 0.999, epsilon = 1e-08, decay = 0.0),loss='categorical_crossentropy', metrics=['accuracy'])\n",
        "\n"
      ],
      "execution_count": null,
      "outputs": [
        {
          "output_type": "stream",
          "text": [
            "Downloading data from https://storage.googleapis.com/tensorflow/keras-applications/inception_v3/inception_v3_weights_tf_dim_ordering_tf_kernels_notop.h5\n",
            "87916544/87910968 [==============================] - 1s 0us/step\n"
          ],
          "name": "stdout"
        }
      ]
    },
    {
      "cell_type": "code",
      "metadata": {
        "id": "fNrEhNygOzdY",
        "outputId": "62281798-4f97-4638-9f06-71128166b8e3",
        "colab": {
          "base_uri": "https://localhost:8080/",
          "height": 1000
        }
      },
      "source": [
        "model.history= model.fit(dataLoader.get_train_generator(),\n",
        "                          callbacks= mycallbacks,\n",
        "                          epochs=50,\n",
        "                          validation_data=dataLoader.get_valid_generator())\n",
        "model.save('/content/drive/My Drive/Facial/Inception_TwoDropout.h5')"
      ],
      "execution_count": null,
      "outputs": [
        {
          "output_type": "stream",
          "text": [
            "Epoch 1/50\n",
            "228/228 [==============================] - ETA: 0s - loss: 1.7307 - accuracy: 0.3401\n",
            "Epoch 00001: val_accuracy improved from -inf to 0.33158, saving model to /content/drive/My Drive/Facial/checkpoint/Inception_TwoDropout\n",
            "INFO:tensorflow:Assets written to: /content/drive/My Drive/Facial/checkpoint/Inception_TwoDropout/assets\n"
          ],
          "name": "stdout"
        },
        {
          "output_type": "stream",
          "text": [
            "INFO:tensorflow:Assets written to: /content/drive/My Drive/Facial/checkpoint/Inception_TwoDropout/assets\n"
          ],
          "name": "stderr"
        },
        {
          "output_type": "stream",
          "text": [
            "\b\b\b\b\b\b\b\b\b\b\b\b\b\b\b\b\b\b\b\b\b\b\b\b\b\b\b\b\b\b\b\b\b\b\b\b\b\b\b\b\b\b\b\b\b\b\b\b\b\b\b\b\b\b\b\b\b\b\b\b\b\b\b\b\b\b\b\b\b\b\b\b\b\b\b\b\b\b\b\b\b\b\b\b\r228/228 [==============================] - 81s 355ms/step - loss: 1.7307 - accuracy: 0.3401 - val_loss: 2.3405 - val_accuracy: 0.3316\n",
            "Epoch 2/50\n",
            "228/228 [==============================] - ETA: 0s - loss: 1.4695 - accuracy: 0.4457\n",
            "Epoch 00002: val_accuracy improved from 0.33158 to 0.37709, saving model to /content/drive/My Drive/Facial/checkpoint/Inception_TwoDropout\n",
            "INFO:tensorflow:Assets written to: /content/drive/My Drive/Facial/checkpoint/Inception_TwoDropout/assets\n"
          ],
          "name": "stdout"
        },
        {
          "output_type": "stream",
          "text": [
            "INFO:tensorflow:Assets written to: /content/drive/My Drive/Facial/checkpoint/Inception_TwoDropout/assets\n"
          ],
          "name": "stderr"
        },
        {
          "output_type": "stream",
          "text": [
            "\b\b\b\b\b\b\b\b\b\b\b\b\b\b\b\b\b\b\b\b\b\b\b\b\b\b\b\b\b\b\b\b\b\b\b\b\b\b\b\b\b\b\b\b\b\b\b\b\b\b\b\b\b\b\b\b\b\b\b\b\b\b\b\b\b\b\b\b\b\b\b\b\b\b\b\b\b\b\b\b\b\b\b\b\r228/228 [==============================] - 79s 348ms/step - loss: 1.4695 - accuracy: 0.4457 - val_loss: 1.7350 - val_accuracy: 0.3771\n",
            "Epoch 3/50\n",
            "228/228 [==============================] - ETA: 0s - loss: 1.4130 - accuracy: 0.4654\n",
            "Epoch 00003: val_accuracy improved from 0.37709 to 0.47585, saving model to /content/drive/My Drive/Facial/checkpoint/Inception_TwoDropout\n",
            "INFO:tensorflow:Assets written to: /content/drive/My Drive/Facial/checkpoint/Inception_TwoDropout/assets\n"
          ],
          "name": "stdout"
        },
        {
          "output_type": "stream",
          "text": [
            "INFO:tensorflow:Assets written to: /content/drive/My Drive/Facial/checkpoint/Inception_TwoDropout/assets\n"
          ],
          "name": "stderr"
        },
        {
          "output_type": "stream",
          "text": [
            "\b\b\b\b\b\b\b\b\b\b\b\b\b\b\b\b\b\b\b\b\b\b\b\b\b\b\b\b\b\b\b\b\b\b\b\b\b\b\b\b\b\b\b\b\b\b\b\b\b\b\b\b\b\b\b\b\b\b\b\b\b\b\b\b\b\b\b\b\b\b\b\b\b\b\b\b\b\b\b\b\b\b\b\b\r228/228 [==============================] - 82s 359ms/step - loss: 1.4130 - accuracy: 0.4654 - val_loss: 1.5283 - val_accuracy: 0.4759\n",
            "Epoch 4/50\n",
            "228/228 [==============================] - ETA: 0s - loss: 1.2824 - accuracy: 0.5100\n",
            "Epoch 00004: val_accuracy did not improve from 0.47585\n",
            "228/228 [==============================] - 47s 206ms/step - loss: 1.2824 - accuracy: 0.5100 - val_loss: 1.5237 - val_accuracy: 0.4740\n",
            "Epoch 5/50\n",
            "228/228 [==============================] - ETA: 0s - loss: 1.2319 - accuracy: 0.5340\n",
            "Epoch 00005: val_accuracy improved from 0.47585 to 0.52910, saving model to /content/drive/My Drive/Facial/checkpoint/Inception_TwoDropout\n",
            "INFO:tensorflow:Assets written to: /content/drive/My Drive/Facial/checkpoint/Inception_TwoDropout/assets\n"
          ],
          "name": "stdout"
        },
        {
          "output_type": "stream",
          "text": [
            "INFO:tensorflow:Assets written to: /content/drive/My Drive/Facial/checkpoint/Inception_TwoDropout/assets\n"
          ],
          "name": "stderr"
        },
        {
          "output_type": "stream",
          "text": [
            "\b\b\b\b\b\b\b\b\b\b\b\b\b\b\b\b\b\b\b\b\b\b\b\b\b\b\b\b\b\b\b\b\b\b\b\b\b\b\b\b\b\b\b\b\b\b\b\b\b\b\b\b\b\b\b\b\b\b\b\b\b\b\b\b\b\b\b\b\b\b\b\b\b\b\b\b\b\b\b\b\b\b\b\b\r228/228 [==============================] - 81s 357ms/step - loss: 1.2319 - accuracy: 0.5340 - val_loss: 1.2411 - val_accuracy: 0.5291\n",
            "Epoch 6/50\n",
            "228/228 [==============================] - ETA: 0s - loss: 1.1787 - accuracy: 0.5533\n",
            "Epoch 00006: val_accuracy improved from 0.52910 to 0.55697, saving model to /content/drive/My Drive/Facial/checkpoint/Inception_TwoDropout\n",
            "INFO:tensorflow:Assets written to: /content/drive/My Drive/Facial/checkpoint/Inception_TwoDropout/assets\n"
          ],
          "name": "stdout"
        },
        {
          "output_type": "stream",
          "text": [
            "INFO:tensorflow:Assets written to: /content/drive/My Drive/Facial/checkpoint/Inception_TwoDropout/assets\n"
          ],
          "name": "stderr"
        },
        {
          "output_type": "stream",
          "text": [
            "\b\b\b\b\b\b\b\b\b\b\b\b\b\b\b\b\b\b\b\b\b\b\b\b\b\b\b\b\b\b\b\b\b\b\b\b\b\b\b\b\b\b\b\b\b\b\b\b\b\b\b\b\b\b\b\b\b\b\b\b\b\b\b\b\b\b\b\b\b\b\b\b\b\b\b\b\b\b\b\b\b\b\b\b\r228/228 [==============================] - 80s 351ms/step - loss: 1.1787 - accuracy: 0.5533 - val_loss: 1.2658 - val_accuracy: 0.5570\n",
            "Epoch 7/50\n",
            "228/228 [==============================] - ETA: 0s - loss: 1.1280 - accuracy: 0.5777\n",
            "Epoch 00007: val_accuracy did not improve from 0.55697\n",
            "228/228 [==============================] - 47s 207ms/step - loss: 1.1280 - accuracy: 0.5777 - val_loss: 1.2831 - val_accuracy: 0.5176\n",
            "Epoch 8/50\n",
            "228/228 [==============================] - ETA: 0s - loss: 1.0920 - accuracy: 0.5879\n",
            "Epoch 00008: val_accuracy improved from 0.55697 to 0.57399, saving model to /content/drive/My Drive/Facial/checkpoint/Inception_TwoDropout\n",
            "INFO:tensorflow:Assets written to: /content/drive/My Drive/Facial/checkpoint/Inception_TwoDropout/assets\n"
          ],
          "name": "stdout"
        },
        {
          "output_type": "stream",
          "text": [
            "INFO:tensorflow:Assets written to: /content/drive/My Drive/Facial/checkpoint/Inception_TwoDropout/assets\n"
          ],
          "name": "stderr"
        },
        {
          "output_type": "stream",
          "text": [
            "\b\b\b\b\b\b\b\b\b\b\b\b\b\b\b\b\b\b\b\b\b\b\b\b\b\b\b\b\b\b\b\b\b\b\b\b\b\b\b\b\b\b\b\b\b\b\b\b\b\b\b\b\b\b\b\b\b\b\b\b\b\b\b\b\b\b\b\b\b\b\b\b\b\b\b\b\b\b\b\b\b\b\b\b\r228/228 [==============================] - 82s 361ms/step - loss: 1.0920 - accuracy: 0.5879 - val_loss: 1.1335 - val_accuracy: 0.5740\n",
            "Epoch 9/50\n",
            "228/228 [==============================] - ETA: 0s - loss: 1.1169 - accuracy: 0.5807\n",
            "Epoch 00009: val_accuracy did not improve from 0.57399\n",
            "228/228 [==============================] - 48s 209ms/step - loss: 1.1169 - accuracy: 0.5807 - val_loss: 1.9267 - val_accuracy: 0.4136\n",
            "Epoch 10/50\n",
            "228/228 [==============================] - ETA: 0s - loss: 1.0669 - accuracy: 0.6024\n",
            "Epoch 00010: val_accuracy did not improve from 0.57399\n",
            "228/228 [==============================] - 47s 208ms/step - loss: 1.0669 - accuracy: 0.6024 - val_loss: 1.2596 - val_accuracy: 0.5650\n",
            "Epoch 11/50\n",
            "228/228 [==============================] - ETA: 0s - loss: 1.0261 - accuracy: 0.6187\n",
            "Epoch 00011: ReduceLROnPlateau reducing learning rate to 0.00010000000474974513.\n",
            "\n",
            "Epoch 00011: val_accuracy improved from 0.57399 to 0.59288, saving model to /content/drive/My Drive/Facial/checkpoint/Inception_TwoDropout\n",
            "INFO:tensorflow:Assets written to: /content/drive/My Drive/Facial/checkpoint/Inception_TwoDropout/assets\n"
          ],
          "name": "stdout"
        },
        {
          "output_type": "stream",
          "text": [
            "INFO:tensorflow:Assets written to: /content/drive/My Drive/Facial/checkpoint/Inception_TwoDropout/assets\n"
          ],
          "name": "stderr"
        },
        {
          "output_type": "stream",
          "text": [
            "\b\b\b\b\b\b\b\b\b\b\b\b\b\b\b\b\b\b\b\b\b\b\b\b\b\b\b\b\b\b\b\b\b\b\b\b\b\b\b\b\b\b\b\b\b\b\b\b\b\b\b\b\b\b\b\b\b\b\b\b\b\b\b\b\b\b\b\b\b\b\b\b\b\b\b\b\b\b\b\b\b\b\b\b\r228/228 [==============================] - 82s 358ms/step - loss: 1.0261 - accuracy: 0.6187 - val_loss: 1.2306 - val_accuracy: 0.5929\n",
            "Epoch 12/50\n",
            "228/228 [==============================] - ETA: 0s - loss: 0.9456 - accuracy: 0.6522\n",
            "Epoch 00012: val_accuracy improved from 0.59288 to 0.63251, saving model to /content/drive/My Drive/Facial/checkpoint/Inception_TwoDropout\n",
            "INFO:tensorflow:Assets written to: /content/drive/My Drive/Facial/checkpoint/Inception_TwoDropout/assets\n"
          ],
          "name": "stdout"
        },
        {
          "output_type": "stream",
          "text": [
            "INFO:tensorflow:Assets written to: /content/drive/My Drive/Facial/checkpoint/Inception_TwoDropout/assets\n"
          ],
          "name": "stderr"
        },
        {
          "output_type": "stream",
          "text": [
            "\b\b\b\b\b\b\b\b\b\b\b\b\b\b\b\b\b\b\b\b\b\b\b\b\b\b\b\b\b\b\b\b\b\b\b\b\b\b\b\b\b\b\b\b\b\b\b\b\b\b\b\b\b\b\b\b\b\b\b\b\b\b\b\b\b\b\b\b\b\b\b\b\b\b\b\b\b\b\b\b\b\b\b\b\r228/228 [==============================] - 80s 350ms/step - loss: 0.9456 - accuracy: 0.6522 - val_loss: 1.0019 - val_accuracy: 0.6325\n",
            "Epoch 13/50\n",
            "228/228 [==============================] - ETA: 0s - loss: 0.9016 - accuracy: 0.6657\n",
            "Epoch 00013: val_accuracy did not improve from 0.63251\n",
            "228/228 [==============================] - 48s 208ms/step - loss: 0.9016 - accuracy: 0.6657 - val_loss: 0.9986 - val_accuracy: 0.6325\n",
            "Epoch 14/50\n",
            "228/228 [==============================] - ETA: 0s - loss: 0.8795 - accuracy: 0.6741\n",
            "Epoch 00014: val_accuracy improved from 0.63251 to 0.64211, saving model to /content/drive/My Drive/Facial/checkpoint/Inception_TwoDropout\n",
            "INFO:tensorflow:Assets written to: /content/drive/My Drive/Facial/checkpoint/Inception_TwoDropout/assets\n"
          ],
          "name": "stdout"
        },
        {
          "output_type": "stream",
          "text": [
            "INFO:tensorflow:Assets written to: /content/drive/My Drive/Facial/checkpoint/Inception_TwoDropout/assets\n"
          ],
          "name": "stderr"
        },
        {
          "output_type": "stream",
          "text": [
            "\b\b\b\b\b\b\b\b\b\b\b\b\b\b\b\b\b\b\b\b\b\b\b\b\b\b\b\b\b\b\b\b\b\b\b\b\b\b\b\b\b\b\b\b\b\b\b\b\b\b\b\b\b\b\b\b\b\b\b\b\b\b\b\b\b\b\b\b\b\b\b\b\b\b\b\b\b\b\b\b\b\b\b\b\r228/228 [==============================] - 83s 365ms/step - loss: 0.8795 - accuracy: 0.6741 - val_loss: 0.9828 - val_accuracy: 0.6421\n",
            "Epoch 15/50\n",
            "228/228 [==============================] - ETA: 0s - loss: 0.8648 - accuracy: 0.6799\n",
            "Epoch 00015: val_accuracy improved from 0.64211 to 0.64613, saving model to /content/drive/My Drive/Facial/checkpoint/Inception_TwoDropout\n",
            "INFO:tensorflow:Assets written to: /content/drive/My Drive/Facial/checkpoint/Inception_TwoDropout/assets\n"
          ],
          "name": "stdout"
        },
        {
          "output_type": "stream",
          "text": [
            "INFO:tensorflow:Assets written to: /content/drive/My Drive/Facial/checkpoint/Inception_TwoDropout/assets\n"
          ],
          "name": "stderr"
        },
        {
          "output_type": "stream",
          "text": [
            "\b\b\b\b\b\b\b\b\b\b\b\b\b\b\b\b\b\b\b\b\b\b\b\b\b\b\b\b\b\b\b\b\b\b\b\b\b\b\b\b\b\b\b\b\b\b\b\b\b\b\b\b\b\b\b\b\b\b\b\b\b\b\b\b\b\b\b\b\b\b\b\b\b\b\b\b\b\b\b\b\b\b\b\b\r228/228 [==============================] - 81s 357ms/step - loss: 0.8648 - accuracy: 0.6799 - val_loss: 0.9639 - val_accuracy: 0.6461\n",
            "Epoch 16/50\n",
            "228/228 [==============================] - ETA: 0s - loss: 0.8466 - accuracy: 0.6848\n",
            "Epoch 00016: val_accuracy improved from 0.64613 to 0.64768, saving model to /content/drive/My Drive/Facial/checkpoint/Inception_TwoDropout\n",
            "INFO:tensorflow:Assets written to: /content/drive/My Drive/Facial/checkpoint/Inception_TwoDropout/assets\n"
          ],
          "name": "stdout"
        },
        {
          "output_type": "stream",
          "text": [
            "INFO:tensorflow:Assets written to: /content/drive/My Drive/Facial/checkpoint/Inception_TwoDropout/assets\n"
          ],
          "name": "stderr"
        },
        {
          "output_type": "stream",
          "text": [
            "\b\b\b\b\b\b\b\b\b\b\b\b\b\b\b\b\b\b\b\b\b\b\b\b\b\b\b\b\b\b\b\b\b\b\b\b\b\b\b\b\b\b\b\b\b\b\b\b\b\b\b\b\b\b\b\b\b\b\b\b\b\b\b\b\b\b\b\b\b\b\b\b\b\b\b\b\b\b\b\b\b\b\b\b\r228/228 [==============================] - 81s 354ms/step - loss: 0.8466 - accuracy: 0.6848 - val_loss: 0.9759 - val_accuracy: 0.6477\n",
            "Epoch 17/50\n",
            "228/228 [==============================] - ETA: 0s - loss: 0.8326 - accuracy: 0.6920\n",
            "Epoch 00017: val_accuracy did not improve from 0.64768\n",
            "228/228 [==============================] - 48s 211ms/step - loss: 0.8326 - accuracy: 0.6920 - val_loss: 0.9895 - val_accuracy: 0.6399\n",
            "Epoch 18/50\n",
            "228/228 [==============================] - ETA: 0s - loss: 0.8150 - accuracy: 0.6953\n",
            "Epoch 00018: ReduceLROnPlateau reducing learning rate to 1.0000000474974514e-05.\n",
            "\n",
            "Epoch 00018: val_accuracy did not improve from 0.64768\n",
            "228/228 [==============================] - 48s 210ms/step - loss: 0.8150 - accuracy: 0.6953 - val_loss: 1.0045 - val_accuracy: 0.6347\n",
            "Epoch 19/50\n",
            "228/228 [==============================] - ETA: 0s - loss: 0.7948 - accuracy: 0.7047\n",
            "Epoch 00019: val_accuracy improved from 0.64768 to 0.65851, saving model to /content/drive/My Drive/Facial/checkpoint/Inception_TwoDropout\n",
            "INFO:tensorflow:Assets written to: /content/drive/My Drive/Facial/checkpoint/Inception_TwoDropout/assets\n"
          ],
          "name": "stdout"
        },
        {
          "output_type": "stream",
          "text": [
            "INFO:tensorflow:Assets written to: /content/drive/My Drive/Facial/checkpoint/Inception_TwoDropout/assets\n"
          ],
          "name": "stderr"
        },
        {
          "output_type": "stream",
          "text": [
            "\b\b\b\b\b\b\b\b\b\b\b\b\b\b\b\b\b\b\b\b\b\b\b\b\b\b\b\b\b\b\b\b\b\b\b\b\b\b\b\b\b\b\b\b\b\b\b\b\b\b\b\b\b\b\b\b\b\b\b\b\b\b\b\b\b\b\b\b\b\b\b\b\b\b\b\b\b\b\b\b\b\b\b\b\r228/228 [==============================] - 82s 362ms/step - loss: 0.7948 - accuracy: 0.7047 - val_loss: 0.9756 - val_accuracy: 0.6585\n",
            "Epoch 20/50\n",
            "228/228 [==============================] - ETA: 0s - loss: 0.7821 - accuracy: 0.7124\n",
            "Epoch 00020: val_accuracy did not improve from 0.65851\n",
            "228/228 [==============================] - 48s 209ms/step - loss: 0.7821 - accuracy: 0.7124 - val_loss: 0.9630 - val_accuracy: 0.6542\n",
            "Epoch 21/50\n",
            "228/228 [==============================] - ETA: 0s - loss: 0.7844 - accuracy: 0.7089\n",
            "Epoch 00021: val_accuracy did not improve from 0.65851\n",
            "228/228 [==============================] - 49s 216ms/step - loss: 0.7844 - accuracy: 0.7089 - val_loss: 0.9798 - val_accuracy: 0.6474\n",
            "Epoch 22/50\n",
            "228/228 [==============================] - ETA: 0s - loss: 0.7793 - accuracy: 0.7125\n",
            "Epoch 00022: val_accuracy did not improve from 0.65851\n",
            "228/228 [==============================] - 47s 208ms/step - loss: 0.7793 - accuracy: 0.7125 - val_loss: 0.9726 - val_accuracy: 0.6498\n",
            "Epoch 23/50\n",
            "228/228 [==============================] - ETA: 0s - loss: 0.7752 - accuracy: 0.7161\n",
            "Epoch 00023: ReduceLROnPlateau reducing learning rate to 1.0000000656873453e-06.\n",
            "\n",
            "Epoch 00023: val_accuracy did not improve from 0.65851\n",
            "228/228 [==============================] - 47s 208ms/step - loss: 0.7752 - accuracy: 0.7161 - val_loss: 0.9763 - val_accuracy: 0.6498\n",
            "Epoch 24/50\n",
            "228/228 [==============================] - ETA: 0s - loss: 0.7697 - accuracy: 0.7180\n",
            "Epoch 00024: val_accuracy improved from 0.65851 to 0.65882, saving model to /content/drive/My Drive/Facial/checkpoint/Inception_TwoDropout\n",
            "INFO:tensorflow:Assets written to: /content/drive/My Drive/Facial/checkpoint/Inception_TwoDropout/assets\n"
          ],
          "name": "stdout"
        },
        {
          "output_type": "stream",
          "text": [
            "INFO:tensorflow:Assets written to: /content/drive/My Drive/Facial/checkpoint/Inception_TwoDropout/assets\n"
          ],
          "name": "stderr"
        },
        {
          "output_type": "stream",
          "text": [
            "\b\b\b\b\b\b\b\b\b\b\b\b\b\b\b\b\b\b\b\b\b\b\b\b\b\b\b\b\b\b\b\b\b\b\b\b\b\b\b\b\b\b\b\b\b\b\b\b\b\b\b\b\b\b\b\b\b\b\b\b\b\b\b\b\b\b\b\b\b\b\b\b\b\b\b\b\b\b\b\b\b\b\b\b\r228/228 [==============================] - 80s 351ms/step - loss: 0.7697 - accuracy: 0.7180 - val_loss: 0.9738 - val_accuracy: 0.6588\n",
            "Epoch 25/50\n",
            "228/228 [==============================] - ETA: 0s - loss: 0.7714 - accuracy: 0.7149Restoring model weights from the end of the best epoch.\n",
            "\n",
            "Epoch 00025: val_accuracy did not improve from 0.65882\n",
            "228/228 [==============================] - 48s 210ms/step - loss: 0.7714 - accuracy: 0.7149 - val_loss: 0.9794 - val_accuracy: 0.6492\n",
            "Epoch 00025: early stopping\n"
          ],
          "name": "stdout"
        }
      ]
    },
    {
      "cell_type": "code",
      "metadata": {
        "id": "UKcHI6hrOxc1",
        "outputId": "dd5c136b-7e5e-4f34-c285-1547c4a1a12b",
        "colab": {
          "base_uri": "https://localhost:8080/",
          "height": 591
        }
      },
      "source": [
        "from matplotlib import pyplot as plt\n",
        "print(model.history.history.keys())\n",
        "#  \"Accuracy\"\n",
        "plt.plot(model.history.history['accuracy'])\n",
        "plt.plot(model.history.history['val_accuracy'])\n",
        "plt.title('model accuracy')\n",
        "plt.ylabel('accuracy')\n",
        "plt.xlabel('epoch')\n",
        "plt.legend(['train', 'validation'], loc='upper left')\n",
        "plt.show()\n",
        "# \"Loss\"\n",
        "plt.plot(model.history.history['loss'])\n",
        "plt.plot(model.history.history['val_loss'])\n",
        "plt.title('model loss')\n",
        "plt.ylabel('loss')\n",
        "plt.xlabel('epoch')\n",
        "plt.legend(['train', 'validation'], loc='upper left')\n",
        "plt.show()"
      ],
      "execution_count": null,
      "outputs": [
        {
          "output_type": "stream",
          "text": [
            "dict_keys(['loss', 'accuracy', 'val_loss', 'val_accuracy', 'lr'])\n"
          ],
          "name": "stdout"
        },
        {
          "output_type": "display_data",
          "data": {
            "image/png": "[encoded data removed]",
            "text/plain": [
              "<Figure size 432x288 with 1 Axes>"
            ]
          },
          "metadata": {
            "tags": [],
            "needs_background": "light"
          }
        },
        {
          "output_type": "display_data",
          "data": {
            "image/png": "[encoded data removed]",
            "text/plain": [
              "<Figure size 432x288 with 1 Axes>"
            ]
          },
          "metadata": {
            "tags": [],
            "needs_background": "light"
          }
        }
      ]
    },
    {
      "cell_type": "code",
      "metadata": {
        "id": "HyGe8qdH5UXN",
        "outputId": "a770fd11-8223-4af3-d59c-599340dcdfbd",
        "colab": {
          "base_uri": "https://localhost:8080/",
          "height": 1000
        }
      },
      "source": [
        "model.history= model.fit(dataLoader.get_train_generator(),\n",
        "                          callbacks= mycallbacks,\n",
        "                          epochs=50,\n",
        "                          validation_data=dataLoader.get_valid_generator())\n",
        "model.save('/content/drive/My Drive/Facial/Inception_Dropout.h5')"
      ],
      "execution_count": null,
      "outputs": [
        {
          "output_type": "stream",
          "text": [
            "Epoch 1/50\n",
            "228/228 [==============================] - ETA: 0s - loss: 1.7097 - accuracy: 0.3313\n",
            "Epoch 00001: val_accuracy improved from -inf to 0.29876, saving model to /content/drive/My Drive/Facial/checkpoint/Inception_Dropout\n",
            "INFO:tensorflow:Assets written to: /content/drive/My Drive/Facial/checkpoint/Inception_Dropout/assets\n"
          ],
          "name": "stdout"
        },
        {
          "output_type": "stream",
          "text": [
            "INFO:tensorflow:Assets written to: /content/drive/My Drive/Facial/checkpoint/Inception_Dropout/assets\n"
          ],
          "name": "stderr"
        },
        {
          "output_type": "stream",
          "text": [
            "\b\b\b\b\b\b\b\b\b\b\b\b\b\b\b\b\b\b\b\b\b\b\b\b\b\b\b\b\b\b\b\b\b\b\b\b\b\b\b\b\b\b\b\b\b\b\b\b\b\b\b\b\b\b\b\b\b\b\b\b\b\b\b\b\b\b\b\b\b\b\b\b\b\b\b\b\b\b\b\b\b\b\b\b\r228/228 [==============================] - 83s 364ms/step - loss: 1.7097 - accuracy: 0.3313 - val_loss: 4.7615 - val_accuracy: 0.2988\n",
            "Epoch 2/50\n",
            "228/228 [==============================] - ETA: 0s - loss: 1.4794 - accuracy: 0.4138\n",
            "Epoch 00002: val_accuracy improved from 0.29876 to 0.41486, saving model to /content/drive/My Drive/Facial/checkpoint/Inception_Dropout\n",
            "INFO:tensorflow:Assets written to: /content/drive/My Drive/Facial/checkpoint/Inception_Dropout/assets\n"
          ],
          "name": "stdout"
        },
        {
          "output_type": "stream",
          "text": [
            "INFO:tensorflow:Assets written to: /content/drive/My Drive/Facial/checkpoint/Inception_Dropout/assets\n"
          ],
          "name": "stderr"
        },
        {
          "output_type": "stream",
          "text": [
            "\b\b\b\b\b\b\b\b\b\b\b\b\b\b\b\b\b\b\b\b\b\b\b\b\b\b\b\b\b\b\b\b\b\b\b\b\b\b\b\b\b\b\b\b\b\b\b\b\b\b\b\b\b\b\b\b\b\b\b\b\b\b\b\b\b\b\b\b\b\b\b\b\b\b\b\b\b\b\b\b\b\b\b\b\r228/228 [==============================] - 81s 354ms/step - loss: 1.4794 - accuracy: 0.4138 - val_loss: 2.5851 - val_accuracy: 0.4149\n",
            "Epoch 3/50\n",
            "228/228 [==============================] - ETA: 0s - loss: 1.3743 - accuracy: 0.4468\n",
            "Epoch 00003: val_accuracy improved from 0.41486 to 0.47523, saving model to /content/drive/My Drive/Facial/checkpoint/Inception_Dropout\n",
            "INFO:tensorflow:Assets written to: /content/drive/My Drive/Facial/checkpoint/Inception_Dropout/assets\n"
          ],
          "name": "stdout"
        },
        {
          "output_type": "stream",
          "text": [
            "INFO:tensorflow:Assets written to: /content/drive/My Drive/Facial/checkpoint/Inception_Dropout/assets\n"
          ],
          "name": "stderr"
        },
        {
          "output_type": "stream",
          "text": [
            "\b\b\b\b\b\b\b\b\b\b\b\b\b\b\b\b\b\b\b\b\b\b\b\b\b\b\b\b\b\b\b\b\b\b\b\b\b\b\b\b\b\b\b\b\b\b\b\b\b\b\b\b\b\b\b\b\b\b\b\b\b\b\b\b\b\b\b\b\b\b\b\b\b\b\b\b\b\b\b\b\b\b\b\b\r228/228 [==============================] - 80s 352ms/step - loss: 1.3743 - accuracy: 0.4468 - val_loss: 1.5420 - val_accuracy: 0.4752\n",
            "Epoch 4/50\n",
            "228/228 [==============================] - ETA: 0s - loss: 1.2790 - accuracy: 0.5032\n",
            "Epoch 00004: val_accuracy improved from 0.47523 to 0.51610, saving model to /content/drive/My Drive/Facial/checkpoint/Inception_Dropout\n",
            "INFO:tensorflow:Assets written to: /content/drive/My Drive/Facial/checkpoint/Inception_Dropout/assets\n"
          ],
          "name": "stdout"
        },
        {
          "output_type": "stream",
          "text": [
            "INFO:tensorflow:Assets written to: /content/drive/My Drive/Facial/checkpoint/Inception_Dropout/assets\n"
          ],
          "name": "stderr"
        },
        {
          "output_type": "stream",
          "text": [
            "\b\b\b\b\b\b\b\b\b\b\b\b\b\b\b\b\b\b\b\b\b\b\b\b\b\b\b\b\b\b\b\b\b\b\b\b\b\b\b\b\b\b\b\b\b\b\b\b\b\b\b\b\b\b\b\b\b\b\b\b\b\b\b\b\b\b\b\b\b\b\b\b\b\b\b\b\b\b\b\b\b\b\b\b\r228/228 [==============================] - 79s 346ms/step - loss: 1.2790 - accuracy: 0.5032 - val_loss: 1.3117 - val_accuracy: 0.5161\n",
            "Epoch 5/50\n",
            "228/228 [==============================] - ETA: 0s - loss: 1.2106 - accuracy: 0.5398\n",
            "Epoch 00005: val_accuracy did not improve from 0.51610\n",
            "228/228 [==============================] - 48s 209ms/step - loss: 1.2106 - accuracy: 0.5398 - val_loss: 1.3391 - val_accuracy: 0.5149\n",
            "Epoch 6/50\n",
            "228/228 [==============================] - ETA: 0s - loss: 1.1430 - accuracy: 0.5739\n",
            "Epoch 00006: val_accuracy improved from 0.51610 to 0.56440, saving model to /content/drive/My Drive/Facial/checkpoint/Inception_Dropout\n",
            "INFO:tensorflow:Assets written to: /content/drive/My Drive/Facial/checkpoint/Inception_Dropout/assets\n"
          ],
          "name": "stdout"
        },
        {
          "output_type": "stream",
          "text": [
            "INFO:tensorflow:Assets written to: /content/drive/My Drive/Facial/checkpoint/Inception_Dropout/assets\n"
          ],
          "name": "stderr"
        },
        {
          "output_type": "stream",
          "text": [
            "\b\b\b\b\b\b\b\b\b\b\b\b\b\b\b\b\b\b\b\b\b\b\b\b\b\b\b\b\b\b\b\b\b\b\b\b\b\b\b\b\b\b\b\b\b\b\b\b\b\b\b\b\b\b\b\b\b\b\b\b\b\b\b\b\b\b\b\b\b\b\b\b\b\b\b\b\b\b\b\b\b\b\b\b\r228/228 [==============================] - 79s 348ms/step - loss: 1.1430 - accuracy: 0.5739 - val_loss: 1.1902 - val_accuracy: 0.5644\n",
            "Epoch 7/50\n",
            "228/228 [==============================] - ETA: 0s - loss: 1.0900 - accuracy: 0.5958\n",
            "Epoch 00007: val_accuracy improved from 0.56440 to 0.56873, saving model to /content/drive/My Drive/Facial/checkpoint/Inception_Dropout\n",
            "INFO:tensorflow:Assets written to: /content/drive/My Drive/Facial/checkpoint/Inception_Dropout/assets\n"
          ],
          "name": "stdout"
        },
        {
          "output_type": "stream",
          "text": [
            "INFO:tensorflow:Assets written to: /content/drive/My Drive/Facial/checkpoint/Inception_Dropout/assets\n"
          ],
          "name": "stderr"
        },
        {
          "output_type": "stream",
          "text": [
            "\b\b\b\b\b\b\b\b\b\b\b\b\b\b\b\b\b\b\b\b\b\b\b\b\b\b\b\b\b\b\b\b\b\b\b\b\b\b\b\b\b\b\b\b\b\b\b\b\b\b\b\b\b\b\b\b\b\b\b\b\b\b\b\b\b\b\b\b\b\b\b\b\b\b\b\b\b\b\b\b\b\b\b\b\r228/228 [==============================] - 79s 348ms/step - loss: 1.0900 - accuracy: 0.5958 - val_loss: 1.1671 - val_accuracy: 0.5687\n",
            "Epoch 8/50\n",
            "228/228 [==============================] - ETA: 0s - loss: 1.0488 - accuracy: 0.6167\n",
            "Epoch 00008: val_accuracy improved from 0.56873 to 0.58204, saving model to /content/drive/My Drive/Facial/checkpoint/Inception_Dropout\n",
            "INFO:tensorflow:Assets written to: /content/drive/My Drive/Facial/checkpoint/Inception_Dropout/assets\n"
          ],
          "name": "stdout"
        },
        {
          "output_type": "stream",
          "text": [
            "INFO:tensorflow:Assets written to: /content/drive/My Drive/Facial/checkpoint/Inception_Dropout/assets\n"
          ],
          "name": "stderr"
        },
        {
          "output_type": "stream",
          "text": [
            "\b\b\b\b\b\b\b\b\b\b\b\b\b\b\b\b\b\b\b\b\b\b\b\b\b\b\b\b\b\b\b\b\b\b\b\b\b\b\b\b\b\b\b\b\b\b\b\b\b\b\b\b\b\b\b\b\b\b\b\b\b\b\b\b\b\b\b\b\b\b\b\b\b\b\b\b\b\b\b\b\b\b\b\b\r228/228 [==============================] - 80s 350ms/step - loss: 1.0488 - accuracy: 0.6167 - val_loss: 1.1534 - val_accuracy: 0.5820\n",
            "Epoch 9/50\n",
            "228/228 [==============================] - ETA: 0s - loss: 1.0214 - accuracy: 0.6272\n",
            "Epoch 00009: val_accuracy improved from 0.58204 to 0.59102, saving model to /content/drive/My Drive/Facial/checkpoint/Inception_Dropout\n",
            "INFO:tensorflow:Assets written to: /content/drive/My Drive/Facial/checkpoint/Inception_Dropout/assets\n"
          ],
          "name": "stdout"
        },
        {
          "output_type": "stream",
          "text": [
            "INFO:tensorflow:Assets written to: /content/drive/My Drive/Facial/checkpoint/Inception_Dropout/assets\n"
          ],
          "name": "stderr"
        },
        {
          "output_type": "stream",
          "text": [
            "\b\b\b\b\b\b\b\b\b\b\b\b\b\b\b\b\b\b\b\b\b\b\b\b\b\b\b\b\b\b\b\b\b\b\b\b\b\b\b\b\b\b\b\b\b\b\b\b\b\b\b\b\b\b\b\b\b\b\b\b\b\b\b\b\b\b\b\b\b\b\b\b\b\b\b\b\b\b\b\b\b\b\b\b\r228/228 [==============================] - 80s 350ms/step - loss: 1.0214 - accuracy: 0.6272 - val_loss: 1.1239 - val_accuracy: 0.5910\n",
            "Epoch 10/50\n",
            "228/228 [==============================] - ETA: 0s - loss: 0.9911 - accuracy: 0.6359\n",
            "Epoch 00010: val_accuracy improved from 0.59102 to 0.61362, saving model to /content/drive/My Drive/Facial/checkpoint/Inception_Dropout\n",
            "INFO:tensorflow:Assets written to: /content/drive/My Drive/Facial/checkpoint/Inception_Dropout/assets\n"
          ],
          "name": "stdout"
        },
        {
          "output_type": "stream",
          "text": [
            "INFO:tensorflow:Assets written to: /content/drive/My Drive/Facial/checkpoint/Inception_Dropout/assets\n"
          ],
          "name": "stderr"
        },
        {
          "output_type": "stream",
          "text": [
            "\b\b\b\b\b\b\b\b\b\b\b\b\b\b\b\b\b\b\b\b\b\b\b\b\b\b\b\b\b\b\b\b\b\b\b\b\b\b\b\b\b\b\b\b\b\b\b\b\b\b\b\b\b\b\b\b\b\b\b\b\b\b\b\b\b\b\b\b\b\b\b\b\b\b\b\b\b\b\b\b\b\b\b\b\r228/228 [==============================] - 79s 347ms/step - loss: 0.9911 - accuracy: 0.6359 - val_loss: 1.0891 - val_accuracy: 0.6136\n",
            "Epoch 11/50\n",
            "228/228 [==============================] - ETA: 0s - loss: 0.9622 - accuracy: 0.6458\n",
            "Epoch 00011: val_accuracy did not improve from 0.61362\n",
            "228/228 [==============================] - 47s 208ms/step - loss: 0.9622 - accuracy: 0.6458 - val_loss: 1.2170 - val_accuracy: 0.5675\n",
            "Epoch 12/50\n",
            "228/228 [==============================] - ETA: 0s - loss: 0.9446 - accuracy: 0.6518\n",
            "Epoch 00012: val_accuracy did not improve from 0.61362\n",
            "228/228 [==============================] - 47s 206ms/step - loss: 0.9446 - accuracy: 0.6518 - val_loss: 1.3271 - val_accuracy: 0.5954\n",
            "Epoch 13/50\n",
            "228/228 [==============================] - ETA: 0s - loss: 0.9188 - accuracy: 0.6669\n",
            "Epoch 00013: val_accuracy improved from 0.61362 to 0.61610, saving model to /content/drive/My Drive/Facial/checkpoint/Inception_Dropout\n",
            "INFO:tensorflow:Assets written to: /content/drive/My Drive/Facial/checkpoint/Inception_Dropout/assets\n"
          ],
          "name": "stdout"
        },
        {
          "output_type": "stream",
          "text": [
            "INFO:tensorflow:Assets written to: /content/drive/My Drive/Facial/checkpoint/Inception_Dropout/assets\n"
          ],
          "name": "stderr"
        },
        {
          "output_type": "stream",
          "text": [
            "\b\b\b\b\b\b\b\b\b\b\b\b\b\b\b\b\b\b\b\b\b\b\b\b\b\b\b\b\b\b\b\b\b\b\b\b\b\b\b\b\b\b\b\b\b\b\b\b\b\b\b\b\b\b\b\b\b\b\b\b\b\b\b\b\b\b\b\b\b\b\b\b\b\b\b\b\b\b\b\b\b\b\b\b\r228/228 [==============================] - 79s 346ms/step - loss: 0.9188 - accuracy: 0.6669 - val_loss: 1.0638 - val_accuracy: 0.6161\n",
            "Epoch 14/50\n",
            "228/228 [==============================] - ETA: 0s - loss: 0.8930 - accuracy: 0.6687\n",
            "Epoch 00014: val_accuracy did not improve from 0.61610\n",
            "228/228 [==============================] - 48s 209ms/step - loss: 0.8930 - accuracy: 0.6687 - val_loss: 1.1666 - val_accuracy: 0.6068\n",
            "Epoch 15/50\n",
            "228/228 [==============================] - ETA: 0s - loss: 0.8753 - accuracy: 0.6826\n",
            "Epoch 00015: val_accuracy did not improve from 0.61610\n",
            "228/228 [==============================] - 47s 206ms/step - loss: 0.8753 - accuracy: 0.6826 - val_loss: 1.0839 - val_accuracy: 0.6071\n",
            "Epoch 16/50\n",
            "228/228 [==============================] - ETA: 0s - loss: 0.8624 - accuracy: 0.6880\n",
            "Epoch 00016: ReduceLROnPlateau reducing learning rate to 0.00010000000474974513.\n",
            "\n",
            "Epoch 00016: val_accuracy did not improve from 0.61610\n",
            "228/228 [==============================] - 47s 206ms/step - loss: 0.8624 - accuracy: 0.6880 - val_loss: 1.0995 - val_accuracy: 0.6093\n",
            "Epoch 17/50\n",
            "228/228 [==============================] - ETA: 0s - loss: 0.7598 - accuracy: 0.7272\n",
            "Epoch 00017: val_accuracy improved from 0.61610 to 0.65604, saving model to /content/drive/My Drive/Facial/checkpoint/Inception_Dropout\n",
            "INFO:tensorflow:Assets written to: /content/drive/My Drive/Facial/checkpoint/Inception_Dropout/assets\n"
          ],
          "name": "stdout"
        },
        {
          "output_type": "stream",
          "text": [
            "INFO:tensorflow:Assets written to: /content/drive/My Drive/Facial/checkpoint/Inception_Dropout/assets\n"
          ],
          "name": "stderr"
        },
        {
          "output_type": "stream",
          "text": [
            "\b\b\b\b\b\b\b\b\b\b\b\b\b\b\b\b\b\b\b\b\b\b\b\b\b\b\b\b\b\b\b\b\b\b\b\b\b\b\b\b\b\b\b\b\b\b\b\b\b\b\b\b\b\b\b\b\b\b\b\b\b\b\b\b\b\b\b\b\b\b\b\b\b\b\b\b\b\b\b\b\b\b\b\b\r228/228 [==============================] - 79s 347ms/step - loss: 0.7598 - accuracy: 0.7272 - val_loss: 0.9661 - val_accuracy: 0.6560\n",
            "Epoch 18/50\n",
            "228/228 [==============================] - ETA: 0s - loss: 0.7022 - accuracy: 0.7471\n",
            "Epoch 00018: val_accuracy improved from 0.65604 to 0.66656, saving model to /content/drive/My Drive/Facial/checkpoint/Inception_Dropout\n",
            "INFO:tensorflow:Assets written to: /content/drive/My Drive/Facial/checkpoint/Inception_Dropout/assets\n"
          ],
          "name": "stdout"
        },
        {
          "output_type": "stream",
          "text": [
            "INFO:tensorflow:Assets written to: /content/drive/My Drive/Facial/checkpoint/Inception_Dropout/assets\n"
          ],
          "name": "stderr"
        },
        {
          "output_type": "stream",
          "text": [
            "\b\b\b\b\b\b\b\b\b\b\b\b\b\b\b\b\b\b\b\b\b\b\b\b\b\b\b\b\b\b\b\b\b\b\b\b\b\b\b\b\b\b\b\b\b\b\b\b\b\b\b\b\b\b\b\b\b\b\b\b\b\b\b\b\b\b\b\b\b\b\b\b\b\b\b\b\b\b\b\b\b\b\b\b\r228/228 [==============================] - 79s 346ms/step - loss: 0.7022 - accuracy: 0.7471 - val_loss: 0.9369 - val_accuracy: 0.6666\n",
            "Epoch 19/50\n",
            "228/228 [==============================] - ETA: 0s - loss: 0.6622 - accuracy: 0.7628\n",
            "Epoch 00019: val_accuracy improved from 0.66656 to 0.67090, saving model to /content/drive/My Drive/Facial/checkpoint/Inception_Dropout\n",
            "INFO:tensorflow:Assets written to: /content/drive/My Drive/Facial/checkpoint/Inception_Dropout/assets\n"
          ],
          "name": "stdout"
        },
        {
          "output_type": "stream",
          "text": [
            "INFO:tensorflow:Assets written to: /content/drive/My Drive/Facial/checkpoint/Inception_Dropout/assets\n"
          ],
          "name": "stderr"
        },
        {
          "output_type": "stream",
          "text": [
            "\b\b\b\b\b\b\b\b\b\b\b\b\b\b\b\b\b\b\b\b\b\b\b\b\b\b\b\b\b\b\b\b\b\b\b\b\b\b\b\b\b\b\b\b\b\b\b\b\b\b\b\b\b\b\b\b\b\b\b\b\b\b\b\b\b\b\b\b\b\b\b\b\b\b\b\b\b\b\b\b\b\b\b\b\r228/228 [==============================] - 80s 349ms/step - loss: 0.6622 - accuracy: 0.7628 - val_loss: 0.9793 - val_accuracy: 0.6709\n",
            "Epoch 20/50\n",
            "228/228 [==============================] - ETA: 0s - loss: 0.6432 - accuracy: 0.7674\n",
            "Epoch 00020: val_accuracy did not improve from 0.67090\n",
            "228/228 [==============================] - 47s 208ms/step - loss: 0.6432 - accuracy: 0.7674 - val_loss: 0.9762 - val_accuracy: 0.6672\n",
            "Epoch 21/50\n",
            "228/228 [==============================] - ETA: 0s - loss: 0.6215 - accuracy: 0.7783\n",
            "Epoch 00021: ReduceLROnPlateau reducing learning rate to 1.0000000474974514e-05.\n",
            "\n",
            "Epoch 00021: val_accuracy improved from 0.67090 to 0.67276, saving model to /content/drive/My Drive/Facial/checkpoint/Inception_Dropout\n",
            "INFO:tensorflow:Assets written to: /content/drive/My Drive/Facial/checkpoint/Inception_Dropout/assets\n"
          ],
          "name": "stdout"
        },
        {
          "output_type": "stream",
          "text": [
            "INFO:tensorflow:Assets written to: /content/drive/My Drive/Facial/checkpoint/Inception_Dropout/assets\n"
          ],
          "name": "stderr"
        },
        {
          "output_type": "stream",
          "text": [
            "\b\b\b\b\b\b\b\b\b\b\b\b\b\b\b\b\b\b\b\b\b\b\b\b\b\b\b\b\b\b\b\b\b\b\b\b\b\b\b\b\b\b\b\b\b\b\b\b\b\b\b\b\b\b\b\b\b\b\b\b\b\b\b\b\b\b\b\b\b\b\b\b\b\b\b\b\b\b\b\b\b\b\b\b\r228/228 [==============================] - 79s 345ms/step - loss: 0.6215 - accuracy: 0.7783 - val_loss: 0.9792 - val_accuracy: 0.6728\n",
            "Epoch 22/50\n",
            "228/228 [==============================] - ETA: 0s - loss: 0.5921 - accuracy: 0.7878\n",
            "Epoch 00022: val_accuracy did not improve from 0.67276\n",
            "228/228 [==============================] - 48s 209ms/step - loss: 0.5921 - accuracy: 0.7878 - val_loss: 0.9734 - val_accuracy: 0.6678\n",
            "Epoch 23/50\n",
            "228/228 [==============================] - ETA: 0s - loss: 0.5864 - accuracy: 0.7921Restoring model weights from the end of the best epoch.\n",
            "\n",
            "Epoch 00023: val_accuracy improved from 0.67276 to 0.67430, saving model to /content/drive/My Drive/Facial/checkpoint/Inception_Dropout\n",
            "INFO:tensorflow:Assets written to: /content/drive/My Drive/Facial/checkpoint/Inception_Dropout/assets\n"
          ],
          "name": "stdout"
        },
        {
          "output_type": "stream",
          "text": [
            "INFO:tensorflow:Assets written to: /content/drive/My Drive/Facial/checkpoint/Inception_Dropout/assets\n"
          ],
          "name": "stderr"
        },
        {
          "output_type": "stream",
          "text": [
            "\b\b\b\b\b\b\b\b\b\b\b\b\b\b\b\b\b\b\b\b\b\b\b\b\b\b\b\b\b\b\b\b\b\b\b\b\b\b\b\b\b\b\b\b\b\b\b\b\b\b\b\b\b\b\b\b\b\b\b\b\b\b\b\b\b\b\b\b\b\b\b\b\b\b\b\b\b\b\b\b\b\b\b\b\r228/228 [==============================] - 80s 349ms/step - loss: 0.5864 - accuracy: 0.7921 - val_loss: 0.9731 - val_accuracy: 0.6743\n",
            "Epoch 00023: early stopping\n"
          ],
          "name": "stdout"
        }
      ]
    },
    {
      "cell_type": "code",
      "metadata": {
        "id": "iLX-Ri2rMwB4",
        "outputId": "52a3b415-9724-45e5-d863-c22ab06790f9",
        "colab": {
          "base_uri": "https://localhost:8080/",
          "height": 591
        }
      },
      "source": [
        "from matplotlib import pyplot as plt\n",
        "print(model.history.history.keys())\n",
        "#  \"Accuracy\"\n",
        "plt.plot(model.history.history['accuracy'])\n",
        "plt.plot(model.history.history['val_accuracy'])\n",
        "plt.title('model accuracy')\n",
        "plt.ylabel('accuracy')\n",
        "plt.xlabel('epoch')\n",
        "plt.legend(['train', 'validation'], loc='upper left')\n",
        "plt.show()\n",
        "# \"Loss\"\n",
        "plt.plot(model.history.history['loss'])\n",
        "plt.plot(model.history.history['val_loss'])\n",
        "plt.title('model loss')\n",
        "plt.ylabel('loss')\n",
        "plt.xlabel('epoch')\n",
        "plt.legend(['train', 'validation'], loc='upper left')\n",
        "plt.show()"
      ],
      "execution_count": null,
      "outputs": [
        {
          "output_type": "stream",
          "text": [
            "dict_keys(['loss', 'accuracy', 'val_loss', 'val_accuracy', 'lr'])\n"
          ],
          "name": "stdout"
        },
        {
          "output_type": "display_data",
          "data": {
            "image/png": "[encoded data removed]",
            "text/plain": [
              "<Figure size 432x288 with 1 Axes>"
            ]
          },
          "metadata": {
            "tags": [],
            "needs_background": "light"
          }
        },
        {
          "output_type": "display_data",
          "data": {
            "image/png": "[encoded data removed]",
            "text/plain": [
              "<Figure size 432x288 with 1 Axes>"
            ]
          },
          "metadata": {
            "tags": [],
            "needs_background": "light"
          }
        }
      ]
    },
    {
      "cell_type": "code",
      "metadata": {
        "id": "YuIYRglOC9-8",
        "outputId": "479b05cc-0075-4f6a-b2d6-d9d0bba0a22d",
        "colab": {
          "base_uri": "https://localhost:8080/",
          "height": 34
        }
      },
      "source": [
        "weightsFile = '/content/drive/My Drive/Facial/Inception_Dropout.h5'\n",
        "model.load_weights(weightsFile)\n",
        "evaluate_results = model.evaluate(dataLoader.get_test_generator(),\n",
        "                                                workers= 6)"
      ],
      "execution_count": null,
      "outputs": [
        {
          "output_type": "stream",
          "text": [
            "29/29 [==============================] - 3s 105ms/step - loss: 0.9269 - accuracy: 0.6626\n"
          ],
          "name": "stdout"
        }
      ]
    },
    {
      "cell_type": "code",
      "metadata": {
        "id": "swyVSkORDdB_"
      },
      "source": [
        "log_data = pd.read_csv('/content/drive/My Drive/Facial/history.csv', sep=',', engine='python')\n",
        "# \"Accuracy\"\n",
        "plt.plot([float(line) for line in log_data['accuracy']])\n",
        "plt.plot([float(line) for line in log_data['val_accuracy']])\n",
        "plt.title('model accuracy')\n",
        "plt.ylabel('accuracy')\n",
        "plt.xlabel('epoch')\n",
        "plt.legend(['train', 'validation'], loc='upper left')\n",
        "plt.show()\n",
        "# \"Loss\"\n",
        "plt.plot([float(line) for line in log_data['loss']])\n",
        "plt.plot([float(line) for line in log_data['val_loss']])\n",
        "plt.title('model loss')\n",
        "plt.ylabel('loss')\n",
        "plt.xlabel('epoch')\n",
        "plt.legend(['train', 'validation'], loc='upper left')\n",
        "plt.show()"
      ],
      "execution_count": null,
      "outputs": []
    },
    {
      "cell_type": "markdown",
      "metadata": {
        "id": "MiUY9756pVjM"
      },
      "source": [
        "## Train Model"
      ]
    },
    {
      "cell_type": "code",
      "metadata": {
        "id": "We9mgHP4xr-X",
        "outputId": "3f9bffe4-ac88-434c-f231-7dd7c0e97b9a",
        "colab": {
          "base_uri": "https://localhost:8080/",
          "height": 1000
        }
      },
      "source": [
        "model.history= model.fit(dataLoader.get_train_generator(),\n",
        "                          callbacks= mycallbacks,\n",
        "                          epochs=50,\n",
        "                          validation_data=dataLoader.get_valid_generator())\n",
        "model.save('/content/drive/My Drive/Facial/Inception_2.h5')\n"
      ],
      "execution_count": null,
      "outputs": [
        {
          "output_type": "stream",
          "text": [
            "Epoch 1/50\n",
            "228/228 [==============================] - ETA: 0s - loss: 1.7439 - accuracy: 0.2964\n",
            "Epoch 00001: val_accuracy improved from -inf to 0.26873, saving model to /content/drive/My Drive/Facial/checkpoint/Inception_2\n",
            "WARNING:tensorflow:From /usr/local/lib/python3.6/dist-packages/tensorflow/python/training/tracking/tracking.py:111: Model.state_updates (from tensorflow.python.keras.engine.training) is deprecated and will be removed in a future version.\n",
            "Instructions for updating:\n",
            "This property should not be used in TensorFlow 2.0, as updates are applied automatically.\n"
          ],
          "name": "stdout"
        },
        {
          "output_type": "stream",
          "text": [
            "WARNING:tensorflow:From /usr/local/lib/python3.6/dist-packages/tensorflow/python/training/tracking/tracking.py:111: Model.state_updates (from tensorflow.python.keras.engine.training) is deprecated and will be removed in a future version.\n",
            "Instructions for updating:\n",
            "This property should not be used in TensorFlow 2.0, as updates are applied automatically.\n"
          ],
          "name": "stderr"
        },
        {
          "output_type": "stream",
          "text": [
            "WARNING:tensorflow:From /usr/local/lib/python3.6/dist-packages/tensorflow/python/training/tracking/tracking.py:111: Layer.updates (from tensorflow.python.keras.engine.base_layer) is deprecated and will be removed in a future version.\n",
            "Instructions for updating:\n",
            "This property should not be used in TensorFlow 2.0, as updates are applied automatically.\n"
          ],
          "name": "stdout"
        },
        {
          "output_type": "stream",
          "text": [
            "WARNING:tensorflow:From /usr/local/lib/python3.6/dist-packages/tensorflow/python/training/tracking/tracking.py:111: Layer.updates (from tensorflow.python.keras.engine.base_layer) is deprecated and will be removed in a future version.\n",
            "Instructions for updating:\n",
            "This property should not be used in TensorFlow 2.0, as updates are applied automatically.\n"
          ],
          "name": "stderr"
        },
        {
          "output_type": "stream",
          "text": [
            "INFO:tensorflow:Assets written to: /content/drive/My Drive/Facial/checkpoint/Inception_2/assets\n"
          ],
          "name": "stdout"
        },
        {
          "output_type": "stream",
          "text": [
            "INFO:tensorflow:Assets written to: /content/drive/My Drive/Facial/checkpoint/Inception_2/assets\n"
          ],
          "name": "stderr"
        },
        {
          "output_type": "stream",
          "text": [
            "\b\b\b\b\b\b\b\b\b\b\b\b\b\b\b\b\b\b\b\b\b\b\b\b\b\b\b\b\b\b\b\b\b\b\b\b\b\b\b\b\b\b\b\b\b\b\b\b\b\b\b\b\b\b\b\b\b\b\b\b\b\b\b\b\b\b\b\b\b\b\b\b\b\b\b\b\b\b\b\b\b\b\b\b\r228/228 [==============================] - 123s 540ms/step - loss: 1.7439 - accuracy: 0.2964 - val_loss: 19.4961 - val_accuracy: 0.2687\n",
            "Epoch 2/50\n",
            "228/228 [==============================] - ETA: 0s - loss: 1.4380 - accuracy: 0.4296\n",
            "Epoch 00002: val_accuracy improved from 0.26873 to 0.39350, saving model to /content/drive/My Drive/Facial/checkpoint/Inception_2\n",
            "INFO:tensorflow:Assets written to: /content/drive/My Drive/Facial/checkpoint/Inception_2/assets\n"
          ],
          "name": "stdout"
        },
        {
          "output_type": "stream",
          "text": [
            "INFO:tensorflow:Assets written to: /content/drive/My Drive/Facial/checkpoint/Inception_2/assets\n"
          ],
          "name": "stderr"
        },
        {
          "output_type": "stream",
          "text": [
            "\b\b\b\b\b\b\b\b\b\b\b\b\b\b\b\b\b\b\b\b\b\b\b\b\b\b\b\b\b\b\b\b\b\b\b\b\b\b\b\b\b\b\b\b\b\b\b\b\b\b\b\b\b\b\b\b\b\b\b\b\b\b\b\b\b\b\b\b\b\b\b\b\b\b\b\b\b\b\b\b\b\b\b\b\r228/228 [==============================] - 120s 528ms/step - loss: 1.4380 - accuracy: 0.4296 - val_loss: 1.7620 - val_accuracy: 0.3935\n",
            "Epoch 3/50\n",
            "228/228 [==============================] - ETA: 0s - loss: 1.2871 - accuracy: 0.5045\n",
            "Epoch 00003: val_accuracy improved from 0.39350 to 0.51022, saving model to /content/drive/My Drive/Facial/checkpoint/Inception_2\n",
            "INFO:tensorflow:Assets written to: /content/drive/My Drive/Facial/checkpoint/Inception_2/assets\n"
          ],
          "name": "stdout"
        },
        {
          "output_type": "stream",
          "text": [
            "INFO:tensorflow:Assets written to: /content/drive/My Drive/Facial/checkpoint/Inception_2/assets\n"
          ],
          "name": "stderr"
        },
        {
          "output_type": "stream",
          "text": [
            "\b\b\b\b\b\b\b\b\b\b\b\b\b\b\b\b\b\b\b\b\b\b\b\b\b\b\b\b\b\b\b\b\b\b\b\b\b\b\b\b\b\b\b\b\b\b\b\b\b\b\b\b\b\b\b\b\b\b\b\b\b\b\b\b\b\b\b\b\b\b\b\b\b\b\b\b\b\b\b\b\b\b\b\b\r228/228 [==============================] - 121s 529ms/step - loss: 1.2871 - accuracy: 0.5045 - val_loss: 1.3351 - val_accuracy: 0.5102\n",
            "Epoch 4/50\n",
            "228/228 [==============================] - ETA: 0s - loss: 1.1935 - accuracy: 0.5414\n",
            "Epoch 00004: val_accuracy did not improve from 0.51022\n",
            "228/228 [==============================] - 75s 328ms/step - loss: 1.1935 - accuracy: 0.5414 - val_loss: 6.5623 - val_accuracy: 0.1762\n",
            "Epoch 5/50\n",
            "228/228 [==============================] - ETA: 0s - loss: 1.1688 - accuracy: 0.5574\n",
            "Epoch 00005: val_accuracy did not improve from 0.51022\n",
            "228/228 [==============================] - 75s 328ms/step - loss: 1.1688 - accuracy: 0.5574 - val_loss: 3.6810 - val_accuracy: 0.5006\n",
            "Epoch 6/50\n",
            "228/228 [==============================] - ETA: 0s - loss: 1.1087 - accuracy: 0.5826\n",
            "Epoch 00006: val_accuracy improved from 0.51022 to 0.58452, saving model to /content/drive/My Drive/Facial/checkpoint/Inception_2\n",
            "INFO:tensorflow:Assets written to: /content/drive/My Drive/Facial/checkpoint/Inception_2/assets\n"
          ],
          "name": "stdout"
        },
        {
          "output_type": "stream",
          "text": [
            "INFO:tensorflow:Assets written to: /content/drive/My Drive/Facial/checkpoint/Inception_2/assets\n"
          ],
          "name": "stderr"
        },
        {
          "output_type": "stream",
          "text": [
            "\b\b\b\b\b\b\b\b\b\b\b\b\b\b\b\b\b\b\b\b\b\b\b\b\b\b\b\b\b\b\b\b\b\b\b\b\b\b\b\b\b\b\b\b\b\b\b\b\b\b\b\b\b\b\b\b\b\b\b\b\b\b\b\b\b\b\b\b\b\b\b\b\b\b\b\b\b\b\b\b\b\b\b\b\r228/228 [==============================] - 119s 524ms/step - loss: 1.1087 - accuracy: 0.5826 - val_loss: 1.1236 - val_accuracy: 0.5845\n",
            "Epoch 7/50\n",
            "228/228 [==============================] - ETA: 0s - loss: 1.0426 - accuracy: 0.6111\n",
            "Epoch 00007: val_accuracy improved from 0.58452 to 0.58793, saving model to /content/drive/My Drive/Facial/checkpoint/Inception_2\n",
            "INFO:tensorflow:Assets written to: /content/drive/My Drive/Facial/checkpoint/Inception_2/assets\n"
          ],
          "name": "stdout"
        },
        {
          "output_type": "stream",
          "text": [
            "INFO:tensorflow:Assets written to: /content/drive/My Drive/Facial/checkpoint/Inception_2/assets\n"
          ],
          "name": "stderr"
        },
        {
          "output_type": "stream",
          "text": [
            "\b\b\b\b\b\b\b\b\b\b\b\b\b\b\b\b\b\b\b\b\b\b\b\b\b\b\b\b\b\b\b\b\b\b\b\b\b\b\b\b\b\b\b\b\b\b\b\b\b\b\b\b\b\b\b\b\b\b\b\b\b\b\b\b\b\b\b\b\b\b\b\b\b\b\b\b\b\b\b\b\b\b\b\b\r228/228 [==============================] - 120s 528ms/step - loss: 1.0426 - accuracy: 0.6111 - val_loss: 1.1258 - val_accuracy: 0.5879\n",
            "Epoch 8/50\n",
            "228/228 [==============================] - ETA: 0s - loss: 1.0079 - accuracy: 0.6255\n",
            "Epoch 00008: val_accuracy did not improve from 0.58793\n",
            "228/228 [==============================] - 76s 333ms/step - loss: 1.0079 - accuracy: 0.6255 - val_loss: 1.1556 - val_accuracy: 0.5749\n",
            "Epoch 9/50\n",
            "228/228 [==============================] - ETA: 0s - loss: 0.9810 - accuracy: 0.6323\n",
            "Epoch 00009: val_accuracy improved from 0.58793 to 0.59907, saving model to /content/drive/My Drive/Facial/checkpoint/Inception_2\n",
            "INFO:tensorflow:Assets written to: /content/drive/My Drive/Facial/checkpoint/Inception_2/assets\n"
          ],
          "name": "stdout"
        },
        {
          "output_type": "stream",
          "text": [
            "INFO:tensorflow:Assets written to: /content/drive/My Drive/Facial/checkpoint/Inception_2/assets\n"
          ],
          "name": "stderr"
        },
        {
          "output_type": "stream",
          "text": [
            "\b\b\b\b\b\b\b\b\b\b\b\b\b\b\b\b\b\b\b\b\b\b\b\b\b\b\b\b\b\b\b\b\b\b\b\b\b\b\b\b\b\b\b\b\b\b\b\b\b\b\b\b\b\b\b\b\b\b\b\b\b\b\b\b\b\b\b\b\b\b\b\b\b\b\b\b\b\b\b\b\b\b\b\b\r228/228 [==============================] - 120s 526ms/step - loss: 0.9810 - accuracy: 0.6323 - val_loss: 1.1001 - val_accuracy: 0.5991\n",
            "Epoch 10/50\n",
            "228/228 [==============================] - ETA: 0s - loss: 1.0822 - accuracy: 0.5897\n",
            "Epoch 00010: val_accuracy did not improve from 0.59907\n",
            "228/228 [==============================] - 75s 328ms/step - loss: 1.0822 - accuracy: 0.5897 - val_loss: 1.7179 - val_accuracy: 0.4783\n",
            "Epoch 11/50\n",
            "228/228 [==============================] - ETA: 0s - loss: 1.0156 - accuracy: 0.6205\n",
            "Epoch 00011: val_accuracy did not improve from 0.59907\n",
            "228/228 [==============================] - 74s 326ms/step - loss: 1.0156 - accuracy: 0.6205 - val_loss: 1.1168 - val_accuracy: 0.5895\n",
            "Epoch 12/50\n",
            "228/228 [==============================] - ETA: 0s - loss: 0.9718 - accuracy: 0.6369\n",
            "Epoch 00012: ReduceLROnPlateau reducing learning rate to 0.00010000000474974513.\n",
            "\n",
            "Epoch 00012: val_accuracy did not improve from 0.59907\n",
            "228/228 [==============================] - 74s 326ms/step - loss: 0.9718 - accuracy: 0.6369 - val_loss: 1.1474 - val_accuracy: 0.5786\n",
            "Epoch 13/50\n",
            "228/228 [==============================] - ETA: 0s - loss: 0.8918 - accuracy: 0.6656\n",
            "Epoch 00013: val_accuracy improved from 0.59907 to 0.63746, saving model to /content/drive/My Drive/Facial/checkpoint/Inception_2\n",
            "INFO:tensorflow:Assets written to: /content/drive/My Drive/Facial/checkpoint/Inception_2/assets\n"
          ],
          "name": "stdout"
        },
        {
          "output_type": "stream",
          "text": [
            "INFO:tensorflow:Assets written to: /content/drive/My Drive/Facial/checkpoint/Inception_2/assets\n"
          ],
          "name": "stderr"
        },
        {
          "output_type": "stream",
          "text": [
            "\b\b\b\b\b\b\b\b\b\b\b\b\b\b\b\b\b\b\b\b\b\b\b\b\b\b\b\b\b\b\b\b\b\b\b\b\b\b\b\b\b\b\b\b\b\b\b\b\b\b\b\b\b\b\b\b\b\b\b\b\b\b\b\b\b\b\b\b\b\b\b\b\b\b\b\b\b\b\b\b\b\b\b\b\r228/228 [==============================] - 119s 522ms/step - loss: 0.8918 - accuracy: 0.6656 - val_loss: 0.9790 - val_accuracy: 0.6375\n",
            "Epoch 14/50\n",
            "228/228 [==============================] - ETA: 0s - loss: 0.8502 - accuracy: 0.6826\n",
            "Epoch 00014: val_accuracy improved from 0.63746 to 0.64303, saving model to /content/drive/My Drive/Facial/checkpoint/Inception_2\n",
            "INFO:tensorflow:Assets written to: /content/drive/My Drive/Facial/checkpoint/Inception_2/assets\n"
          ],
          "name": "stdout"
        },
        {
          "output_type": "stream",
          "text": [
            "INFO:tensorflow:Assets written to: /content/drive/My Drive/Facial/checkpoint/Inception_2/assets\n"
          ],
          "name": "stderr"
        },
        {
          "output_type": "stream",
          "text": [
            "\b\b\b\b\b\b\b\b\b\b\b\b\b\b\b\b\b\b\b\b\b\b\b\b\b\b\b\b\b\b\b\b\b\b\b\b\b\b\b\b\b\b\b\b\b\b\b\b\b\b\b\b\b\b\b\b\b\b\b\b\b\b\b\b\b\b\b\b\b\b\b\b\b\b\b\b\b\b\b\b\b\b\b\b\r228/228 [==============================] - 121s 531ms/step - loss: 0.8502 - accuracy: 0.6826 - val_loss: 0.9675 - val_accuracy: 0.6430\n",
            "Epoch 15/50\n",
            "228/228 [==============================] - ETA: 0s - loss: 0.8327 - accuracy: 0.6915\n",
            "Epoch 00015: val_accuracy did not improve from 0.64303\n",
            "228/228 [==============================] - 75s 330ms/step - loss: 0.8327 - accuracy: 0.6915 - val_loss: 1.0043 - val_accuracy: 0.6359\n",
            "Epoch 16/50\n",
            "228/228 [==============================] - ETA: 0s - loss: 0.8260 - accuracy: 0.6908\n",
            "Epoch 00016: val_accuracy did not improve from 0.64303\n",
            "228/228 [==============================] - 74s 326ms/step - loss: 0.8260 - accuracy: 0.6908 - val_loss: 1.0475 - val_accuracy: 0.6365\n",
            "Epoch 17/50\n",
            "228/228 [==============================] - ETA: 0s - loss: 0.8030 - accuracy: 0.7022\n",
            "Epoch 00017: ReduceLROnPlateau reducing learning rate to 1.0000000474974514e-05.\n",
            "\n",
            "Epoch 00017: val_accuracy improved from 0.64303 to 0.64458, saving model to /content/drive/My Drive/Facial/checkpoint/Inception_2\n",
            "INFO:tensorflow:Assets written to: /content/drive/My Drive/Facial/checkpoint/Inception_2/assets\n"
          ],
          "name": "stdout"
        },
        {
          "output_type": "stream",
          "text": [
            "INFO:tensorflow:Assets written to: /content/drive/My Drive/Facial/checkpoint/Inception_2/assets\n"
          ],
          "name": "stderr"
        },
        {
          "output_type": "stream",
          "text": [
            "\b\b\b\b\b\b\b\b\b\b\b\b\b\b\b\b\b\b\b\b\b\b\b\b\b\b\b\b\b\b\b\b\b\b\b\b\b\b\b\b\b\b\b\b\b\b\b\b\b\b\b\b\b\b\b\b\b\b\b\b\b\b\b\b\b\b\b\b\b\b\b\b\b\b\b\b\b\b\b\b\b\b\b\b\r228/228 [==============================] - 119s 522ms/step - loss: 0.8030 - accuracy: 0.7022 - val_loss: 0.9965 - val_accuracy: 0.6446\n",
            "Epoch 18/50\n",
            "228/228 [==============================] - ETA: 0s - loss: 0.7866 - accuracy: 0.7081\n",
            "Epoch 00018: val_accuracy improved from 0.64458 to 0.64644, saving model to /content/drive/My Drive/Facial/checkpoint/Inception_2\n",
            "INFO:tensorflow:Assets written to: /content/drive/My Drive/Facial/checkpoint/Inception_2/assets\n"
          ],
          "name": "stdout"
        },
        {
          "output_type": "stream",
          "text": [
            "INFO:tensorflow:Assets written to: /content/drive/My Drive/Facial/checkpoint/Inception_2/assets\n"
          ],
          "name": "stderr"
        },
        {
          "output_type": "stream",
          "text": [
            "\b\b\b\b\b\b\b\b\b\b\b\b\b\b\b\b\b\b\b\b\b\b\b\b\b\b\b\b\b\b\b\b\b\b\b\b\b\b\b\b\b\b\b\b\b\b\b\b\b\b\b\b\b\b\b\b\b\b\b\b\b\b\b\b\b\b\b\b\b\b\b\b\b\b\b\b\b\b\b\b\b\b\b\b\r228/228 [==============================] - 120s 527ms/step - loss: 0.7866 - accuracy: 0.7081 - val_loss: 0.9977 - val_accuracy: 0.6464\n",
            "Epoch 19/50\n",
            "228/228 [==============================] - ETA: 0s - loss: 0.7808 - accuracy: 0.7112Restoring model weights from the end of the best epoch.\n",
            "\n",
            "Epoch 00019: val_accuracy improved from 0.64644 to 0.65232, saving model to /content/drive/My Drive/Facial/checkpoint/Inception_2\n",
            "INFO:tensorflow:Assets written to: /content/drive/My Drive/Facial/checkpoint/Inception_2/assets\n"
          ],
          "name": "stdout"
        },
        {
          "output_type": "stream",
          "text": [
            "INFO:tensorflow:Assets written to: /content/drive/My Drive/Facial/checkpoint/Inception_2/assets\n"
          ],
          "name": "stderr"
        },
        {
          "output_type": "stream",
          "text": [
            "\b\b\b\b\b\b\b\b\b\b\b\b\b\b\b\b\b\b\b\b\b\b\b\b\b\b\b\b\b\b\b\b\b\b\b\b\b\b\b\b\b\b\b\b\b\b\b\b\b\b\b\b\b\b\b\b\b\b\b\b\b\b\b\b\b\b\b\b\b\b\b\b\b\b\b\b\b\b\b\b\b\b\b\b\r228/228 [==============================] - 120s 526ms/step - loss: 0.7808 - accuracy: 0.7112 - val_loss: 0.9865 - val_accuracy: 0.6523\n",
            "Epoch 00019: early stopping\n"
          ],
          "name": "stdout"
        }
      ]
    },
    {
      "cell_type": "code",
      "metadata": {
        "id": "qvzDMzCi4Hzy",
        "outputId": "eeafade0-39e5-430e-90ac-8709a65c59af",
        "colab": {
          "base_uri": "https://localhost:8080/",
          "height": 591
        }
      },
      "source": [
        "from matplotlib import pyplot as plt\n",
        "print(model.history.history.keys())\n",
        "#  \"Accuracy\"\n",
        "plt.plot(model.history.history['accuracy'])\n",
        "plt.plot(model.history.history['val_accuracy'])\n",
        "plt.title('model accuracy')\n",
        "plt.ylabel('accuracy')\n",
        "plt.xlabel('epoch')\n",
        "plt.legend(['train', 'validation'], loc='upper left')\n",
        "plt.show()\n",
        "# \"Loss\"\n",
        "plt.plot(model.history.history['loss'])\n",
        "plt.plot(model.history.history['val_loss'])\n",
        "plt.title('model loss')\n",
        "plt.ylabel('loss')\n",
        "plt.xlabel('epoch')\n",
        "plt.legend(['train', 'validation'], loc='upper left')\n",
        "plt.show()"
      ],
      "execution_count": null,
      "outputs": [
        {
          "output_type": "stream",
          "text": [
            "dict_keys(['loss', 'accuracy', 'val_loss', 'val_accuracy', 'lr'])\n"
          ],
          "name": "stdout"
        },
        {
          "output_type": "display_data",
          "data": {
            "image/png": "[encoded data removed]",
            "text/plain": [
              "<Figure size 432x288 with 1 Axes>"
            ]
          },
          "metadata": {
            "tags": [],
            "needs_background": "light"
          }
        },
        {
          "output_type": "display_data",
          "data": {
            "image/png": "[encoded data removed]",
            "text/plain": [
              "<Figure size 432x288 with 1 Axes>"
            ]
          },
          "metadata": {
            "tags": [],
            "needs_background": "light"
          }
        }
      ]
    },
    {
      "cell_type": "code",
      "metadata": {
        "id": "i6g2LmkWS6TB",
        "outputId": "b78ded8a-a4d6-4a22-fda0-a024d40a0c4f",
        "colab": {
          "base_uri": "https://localhost:8080/",
          "height": 1000
        }
      },
      "source": [
        "model.history= model.fit(dataLoader.get_train_generator(),\n",
        "                          callbacks= mycallbacks,\n",
        "                          epochs=20,\n",
        "                          validation_data=dataLoader.get_valid_generator())\n",
        "model.save('/content/drive/My Drive/Facial/Inception_new.h5')"
      ],
      "execution_count": null,
      "outputs": [
        {
          "output_type": "stream",
          "text": [
            "Epoch 1/20\n",
            "228/228 [==============================] - ETA: 0s - loss: 1.7228 - accuracy: 0.3062\n",
            "Epoch 00001: val_accuracy improved from -inf to 0.36440, saving model to ../content/drive/My Drive/Facial/checkpoint/Inception\n",
            "WARNING:tensorflow:From /usr/local/lib/python3.6/dist-packages/tensorflow/python/training/tracking/tracking.py:111: Model.state_updates (from tensorflow.python.keras.engine.training) is deprecated and will be removed in a future version.\n",
            "Instructions for updating:\n",
            "This property should not be used in TensorFlow 2.0, as updates are applied automatically.\n",
            "WARNING:tensorflow:From /usr/local/lib/python3.6/dist-packages/tensorflow/python/training/tracking/tracking.py:111: Layer.updates (from tensorflow.python.keras.engine.base_layer) is deprecated and will be removed in a future version.\n",
            "Instructions for updating:\n",
            "This property should not be used in TensorFlow 2.0, as updates are applied automatically.\n",
            "INFO:tensorflow:Assets written to: ../content/drive/My Drive/Facial/checkpoint/Inception/assets\n",
            "228/228 [==============================] - 129s 565ms/step - loss: 1.7228 - accuracy: 0.3062 - val_loss: 1.5998 - val_accuracy: 0.3644\n",
            "Epoch 2/20\n",
            "228/228 [==============================] - ETA: 0s - loss: 1.5178 - accuracy: 0.4051\n",
            "Epoch 00002: val_accuracy improved from 0.36440 to 0.43870, saving model to ../content/drive/My Drive/Facial/checkpoint/Inception\n",
            "INFO:tensorflow:Assets written to: ../content/drive/My Drive/Facial/checkpoint/Inception/assets\n",
            "228/228 [==============================] - 128s 562ms/step - loss: 1.5178 - accuracy: 0.4051 - val_loss: 1.4486 - val_accuracy: 0.4387\n",
            "Epoch 3/20\n",
            "228/228 [==============================] - ETA: 0s - loss: 1.4084 - accuracy: 0.4533\n",
            "Epoch 00003: val_accuracy improved from 0.43870 to 0.47090, saving model to ../content/drive/My Drive/Facial/checkpoint/Inception\n",
            "INFO:tensorflow:Assets written to: ../content/drive/My Drive/Facial/checkpoint/Inception/assets\n",
            "228/228 [==============================] - 128s 560ms/step - loss: 1.4084 - accuracy: 0.4533 - val_loss: 1.4155 - val_accuracy: 0.4709\n",
            "Epoch 4/20\n",
            "228/228 [==============================] - ETA: 0s - loss: 1.3360 - accuracy: 0.4882\n",
            "Epoch 00004: val_accuracy improved from 0.47090 to 0.50402, saving model to ../content/drive/My Drive/Facial/checkpoint/Inception\n",
            "INFO:tensorflow:Assets written to: ../content/drive/My Drive/Facial/checkpoint/Inception/assets\n",
            "228/228 [==============================] - 126s 554ms/step - loss: 1.3360 - accuracy: 0.4882 - val_loss: 1.3082 - val_accuracy: 0.5040\n",
            "Epoch 5/20\n",
            "228/228 [==============================] - ETA: 0s - loss: 1.2752 - accuracy: 0.5112\n",
            "Epoch 00005: val_accuracy did not improve from 0.50402\n",
            "228/228 [==============================] - 81s 353ms/step - loss: 1.2752 - accuracy: 0.5112 - val_loss: 1.2905 - val_accuracy: 0.5040\n",
            "Epoch 6/20\n",
            "228/228 [==============================] - ETA: 0s - loss: 1.2382 - accuracy: 0.5290\n",
            "Epoch 00006: val_accuracy improved from 0.50402 to 0.52260, saving model to ../content/drive/My Drive/Facial/checkpoint/Inception\n",
            "INFO:tensorflow:Assets written to: ../content/drive/My Drive/Facial/checkpoint/Inception/assets\n",
            "228/228 [==============================] - 125s 548ms/step - loss: 1.2382 - accuracy: 0.5290 - val_loss: 1.2455 - val_accuracy: 0.5226\n",
            "Epoch 7/20\n",
            "228/228 [==============================] - ETA: 0s - loss: 1.2087 - accuracy: 0.5373\n",
            "Epoch 00007: val_accuracy improved from 0.52260 to 0.53932, saving model to ../content/drive/My Drive/Facial/checkpoint/Inception\n",
            "INFO:tensorflow:Assets written to: ../content/drive/My Drive/Facial/checkpoint/Inception/assets\n",
            "228/228 [==============================] - 127s 556ms/step - loss: 1.2087 - accuracy: 0.5373 - val_loss: 1.2251 - val_accuracy: 0.5393\n",
            "Epoch 8/20\n",
            "228/228 [==============================] - ETA: 0s - loss: 1.1730 - accuracy: 0.5573\n",
            "Epoch 00008: val_accuracy did not improve from 0.53932\n",
            "228/228 [==============================] - 80s 352ms/step - loss: 1.1730 - accuracy: 0.5573 - val_loss: 1.2186 - val_accuracy: 0.5341\n",
            "Epoch 9/20\n",
            "228/228 [==============================] - ETA: 0s - loss: 1.1428 - accuracy: 0.5663\n",
            "Epoch 00009: val_accuracy improved from 0.53932 to 0.55604, saving model to ../content/drive/My Drive/Facial/checkpoint/Inception\n",
            "INFO:tensorflow:Assets written to: ../content/drive/My Drive/Facial/checkpoint/Inception/assets\n",
            "228/228 [==============================] - 127s 557ms/step - loss: 1.1428 - accuracy: 0.5663 - val_loss: 1.1867 - val_accuracy: 0.5560\n",
            "Epoch 10/20\n",
            "228/228 [==============================] - ETA: 0s - loss: 1.1222 - accuracy: 0.5750\n",
            "Epoch 00010: val_accuracy did not improve from 0.55604\n",
            "228/228 [==============================] - 81s 356ms/step - loss: 1.1222 - accuracy: 0.5750 - val_loss: 1.1688 - val_accuracy: 0.5557\n",
            "Epoch 11/20\n",
            "228/228 [==============================] - ETA: 0s - loss: 1.0973 - accuracy: 0.5849\n",
            "Epoch 00011: val_accuracy improved from 0.55604 to 0.56873, saving model to ../content/drive/My Drive/Facial/checkpoint/Inception\n",
            "INFO:tensorflow:Assets written to: ../content/drive/My Drive/Facial/checkpoint/Inception/assets\n",
            "228/228 [==============================] - 127s 556ms/step - loss: 1.0973 - accuracy: 0.5849 - val_loss: 1.1476 - val_accuracy: 0.5687\n",
            "Epoch 12/20\n",
            "228/228 [==============================] - ETA: 0s - loss: 1.0768 - accuracy: 0.5949\n",
            "Epoch 00012: val_accuracy improved from 0.56873 to 0.57833, saving model to ../content/drive/My Drive/Facial/checkpoint/Inception\n",
            "INFO:tensorflow:Assets written to: ../content/drive/My Drive/Facial/checkpoint/Inception/assets\n",
            "228/228 [==============================] - 127s 556ms/step - loss: 1.0768 - accuracy: 0.5949 - val_loss: 1.1488 - val_accuracy: 0.5783\n",
            "Epoch 13/20\n",
            "228/228 [==============================] - ETA: 0s - loss: 1.0895 - accuracy: 0.5863\n",
            "Epoch 00013: val_accuracy did not improve from 0.57833\n",
            "228/228 [==============================] - 81s 355ms/step - loss: 1.0895 - accuracy: 0.5863 - val_loss: 1.2092 - val_accuracy: 0.5502\n",
            "Epoch 14/20\n",
            "228/228 [==============================] - ETA: 0s - loss: 1.0747 - accuracy: 0.5907\n",
            "Epoch 00014: val_accuracy did not improve from 0.57833\n",
            "228/228 [==============================] - 80s 353ms/step - loss: 1.0747 - accuracy: 0.5907 - val_loss: 1.1414 - val_accuracy: 0.5768\n",
            "Epoch 15/20\n",
            "228/228 [==============================] - ETA: 0s - loss: 1.0522 - accuracy: 0.6051\n",
            "Epoch 00015: val_accuracy did not improve from 0.57833\n",
            "228/228 [==============================] - 80s 352ms/step - loss: 1.0522 - accuracy: 0.6051 - val_loss: 1.1542 - val_accuracy: 0.5616\n",
            "Epoch 16/20\n",
            "228/228 [==============================] - ETA: 0s - loss: 1.0232 - accuracy: 0.6128\n",
            "Epoch 00016: val_accuracy improved from 0.57833 to 0.58390, saving model to ../content/drive/My Drive/Facial/checkpoint/Inception\n",
            "INFO:tensorflow:Assets written to: ../content/drive/My Drive/Facial/checkpoint/Inception/assets\n",
            "228/228 [==============================] - 126s 552ms/step - loss: 1.0232 - accuracy: 0.6128 - val_loss: 1.2313 - val_accuracy: 0.5839\n",
            "Epoch 17/20\n",
            "228/228 [==============================] - ETA: 0s - loss: 1.0171 - accuracy: 0.6155\n",
            "Epoch 00017: val_accuracy improved from 0.58390 to 0.58947, saving model to ../content/drive/My Drive/Facial/checkpoint/Inception\n",
            "INFO:tensorflow:Assets written to: ../content/drive/My Drive/Facial/checkpoint/Inception/assets\n",
            "228/228 [==============================] - 127s 555ms/step - loss: 1.0171 - accuracy: 0.6155 - val_loss: 1.1014 - val_accuracy: 0.5895\n",
            "Epoch 18/20\n",
            "228/228 [==============================] - ETA: 0s - loss: 0.9970 - accuracy: 0.6258\n",
            "Epoch 00018: val_accuracy improved from 0.58947 to 0.59226, saving model to ../content/drive/My Drive/Facial/checkpoint/Inception\n",
            "INFO:tensorflow:Assets written to: ../content/drive/My Drive/Facial/checkpoint/Inception/assets\n",
            "228/228 [==============================] - 127s 556ms/step - loss: 0.9970 - accuracy: 0.6258 - val_loss: 1.1003 - val_accuracy: 0.5923\n",
            "Epoch 19/20\n",
            "228/228 [==============================] - ETA: 0s - loss: 0.9860 - accuracy: 0.6279\n",
            "Epoch 00019: val_accuracy improved from 0.59226 to 0.59690, saving model to ../content/drive/My Drive/Facial/checkpoint/Inception\n",
            "INFO:tensorflow:Assets written to: ../content/drive/My Drive/Facial/checkpoint/Inception/assets\n",
            "228/228 [==============================] - 126s 553ms/step - loss: 0.9860 - accuracy: 0.6279 - val_loss: 1.1118 - val_accuracy: 0.5969\n",
            "Epoch 20/20\n",
            "228/228 [==============================] - ETA: 0s - loss: 0.9767 - accuracy: 0.6334\n",
            "Epoch 00020: val_accuracy did not improve from 0.59690\n",
            "228/228 [==============================] - 81s 353ms/step - loss: 0.9767 - accuracy: 0.6334 - val_loss: 1.1077 - val_accuracy: 0.5910\n"
          ],
          "name": "stdout"
        }
      ]
    },
    {
      "cell_type": "code",
      "metadata": {
        "id": "unpsL84BLqOZ"
      },
      "source": [
        "#old_train\n",
        "model.history= model.fit(x=np.array(X),y=np.array(Y),\n",
        "                          batch_size=128,callbacks= mycallbacks,\n",
        "                          epochs=20,\n",
        "                          validation_data=(np.array(X_val), np.array(y_val)))\n",
        "model.save('/content/drive/My Drive/Facial/InceptionV3.h5')\n"
      ],
      "execution_count": null,
      "outputs": []
    },
    {
      "cell_type": "code",
      "metadata": {
        "id": "T5r9z9zjTg1u",
        "outputId": "4d15daaa-9e0c-4a2c-bdac-6ba06021994b",
        "colab": {
          "base_uri": "https://localhost:8080/",
          "height": 590
        }
      },
      "source": [
        "from matplotlib import pyplot as plt\n",
        "print(model.history.history.keys())\n",
        "#  \"Accuracy\"\n",
        "plt.plot(model.history.history['accuracy'])\n",
        "plt.plot(model.history.history['val_accuracy'])\n",
        "plt.title('model accuracy')\n",
        "plt.ylabel('accuracy')\n",
        "plt.xlabel('epoch')\n",
        "plt.legend(['train', 'validation'], loc='upper left')\n",
        "plt.show()\n",
        "# \"Loss\"\n",
        "plt.plot(model.history.history['loss'])\n",
        "plt.plot(model.history.history['val_loss'])\n",
        "plt.title('model loss')\n",
        "plt.ylabel('loss')\n",
        "plt.xlabel('epoch')\n",
        "plt.legend(['train', 'validation'], loc='upper left')\n",
        "plt.show()"
      ],
      "execution_count": null,
      "outputs": [
        {
          "output_type": "stream",
          "text": [
            "dict_keys(['loss', 'accuracy', 'val_loss', 'val_accuracy', 'lr'])\n"
          ],
          "name": "stdout"
        },
        {
          "output_type": "display_data",
          "data": {
            "image/png": "[encoded data removed]",
            "text/plain": [
              "<Figure size 432x288 with 1 Axes>"
            ]
          },
          "metadata": {
            "tags": [],
            "needs_background": "light"
          }
        },
        {
          "output_type": "display_data",
          "data": {
            "image/png": "[encoded data removed]",
            "text/plain": [
              "<Figure size 432x288 with 1 Axes>"
            ]
          },
          "metadata": {
            "tags": [],
            "needs_background": "light"
          }
        }
      ]
    },
    {
      "cell_type": "markdown",
      "metadata": {
        "id": "EyUT7-gzgSMY"
      },
      "source": [
        "# Resnet Model"
      ]
    },
    {
      "cell_type": "markdown",
      "metadata": {
        "id": "dIwx2B99Cb2C"
      },
      "source": [
        "##Get Date\n"
      ]
    },
    {
      "cell_type": "code",
      "metadata": {
        "id": "rCaoNRgwCb2R"
      },
      "source": [
        "#!pip install import-ipynb\n",
        "#%cd \"/content/drive/My Drive/Facial\"\n",
        "import import_ipynb\n",
        "\n",
        "import Data as loader\n",
        "\n",
        "dataLoader = loader.DataLoader()"
      ],
      "execution_count": null,
      "outputs": []
    },
    {
      "cell_type": "markdown",
      "metadata": {
        "id": "fOsfiOClCldb"
      },
      "source": [
        "\n",
        "\n",
        "## Build Model"
      ]
    },
    {
      "cell_type": "code",
      "metadata": {
        "id": "JDkMVdEqDst7",
        "outputId": "b4542388-d968-461b-acc9-96b8434b4e51",
        "colab": {
          "base_uri": "https://localhost:8080/",
          "height": 52
        }
      },
      "source": [
        "# RESNET Model\n",
        "from tensorflow.keras.layers import Dense, GlobalAveragePooling2D, Flatten\n",
        "from tensorflow.keras.applications import ResNet50\n",
        "from tensorflow.keras.models import Model\n",
        "\n",
        "model = ResNet50(weights= 'imagenet', include_top=False, input_shape= (48,48,3))\n",
        "\n",
        "x = model.output\n",
        "x = GlobalAveragePooling2D()(x)\n",
        "x = Dense(1024, activation ='relu')(x)\n",
        "predictions = Dense(7, activation= 'softmax')(x)\n"
      ],
      "execution_count": null,
      "outputs": [
        {
          "output_type": "stream",
          "text": [
            "Downloading data from https://storage.googleapis.com/tensorflow/keras-applications/resnet/resnet50_weights_tf_dim_ordering_tf_kernels_notop.h5\n",
            "94773248/94765736 [==============================] - 1s 0us/step\n"
          ],
          "name": "stdout"
        }
      ]
    },
    {
      "cell_type": "code",
      "metadata": {
        "id": "KMVoQQSeCj6R"
      },
      "source": [
        "model = Model(inputs=model.input, outputs=predictions)\n"
      ],
      "execution_count": null,
      "outputs": []
    },
    {
      "cell_type": "code",
      "metadata": {
        "id": "QPCqxJ5b8yDZ"
      },
      "source": [
        "from keras.optimizers import Adam\n",
        "from tensorflow import keras\n",
        "\n",
        "for layer in model.layers:\n",
        "    layer.trainable = True\n",
        "mycallbacks = [                                         # define the callbacks\n",
        "      keras.callbacks.ReduceLROnPlateau(                       # callback to reduce learning rate\n",
        "          monitor='val_loss',\n",
        "          factor = 0.1,\n",
        "          patience=3,\n",
        "          verbose=1,\n",
        "          min_lr=1e-6\n",
        "      ),keras.callbacks.ReduceLROnPlateau(                       # callback to reduce learning rate\n",
        "          monitor='val_accuracy',\n",
        "          factor = 0.1,\n",
        "          patience=3,\n",
        "          verbose=1,\n",
        "          min_lr=1e-6\n",
        "      ),\n",
        "       keras.callbacks.EarlyStopping(                          # callback to stop training if no improvement in validation_loss.\n",
        "         monitor='val_loss', \n",
        "         verbose=1,\n",
        "         patience= 5,\n",
        "         restore_best_weights=True\n",
        "        ),\n",
        "      keras.callbacks.ModelCheckpoint(                      # callback to save the best model if no improvement in validation_AUC.\n",
        "        monitor='val_accuracy',\n",
        "        filepath= \"/content/drive/My Drive/Facial/checkpoint/ResNet\",\n",
        "        save_best_only=True,\n",
        "        mode= 'max',\n",
        "        verbose=1\n",
        "        )\n",
        "    ]\n",
        "model.compile(optimizer = Adam(lr = 1e-4, beta_1 = 0.9, beta_2 = 0.999, epsilon = 1e-08, decay = 0.0), loss='categorical_crossentropy', metrics=['accuracy'])"
      ],
      "execution_count": null,
      "outputs": []
    },
    {
      "cell_type": "markdown",
      "metadata": {
        "id": "umJcWdAcKCAd"
      },
      "source": [
        "## Train Model"
      ]
    },
    {
      "cell_type": "code",
      "metadata": {
        "id": "98PhelpB_gzM",
        "outputId": "db002bab-acef-492d-fff9-2e4a738197d3",
        "colab": {
          "base_uri": "https://localhost:8080/",
          "height": 819
        }
      },
      "source": [
        "history= model.fit(dataLoader.get_train_generator(),\n",
        "                          callbacks= mycallbacks,\n",
        "                          epochs=10,\n",
        "                          validation_data=dataLoader.get_valid_generator())\n",
        "model.save('/content/drive/My Drive/Facial/ResNet20.h5')\n"
      ],
      "execution_count": null,
      "outputs": [
        {
          "output_type": "stream",
          "text": [
            "Epoch 1/10\n",
            "228/228 [==============================] - ETA: 0s - loss: 0.8790 - accuracy: 0.6722\n",
            "Epoch 00001: val_accuracy did not improve from 0.59319\n",
            "228/228 [==============================] - 26s 115ms/step - loss: 0.8790 - accuracy: 0.6722 - val_loss: 1.2835 - val_accuracy: 0.5740\n",
            "Epoch 2/10\n",
            "228/228 [==============================] - ETA: 0s - loss: 0.8519 - accuracy: 0.6843\n",
            "Epoch 00002: val_accuracy did not improve from 0.59319\n",
            "228/228 [==============================] - 26s 115ms/step - loss: 0.8519 - accuracy: 0.6843 - val_loss: 1.1783 - val_accuracy: 0.5796\n",
            "Epoch 3/10\n",
            "228/228 [==============================] - ETA: 0s - loss: 0.8323 - accuracy: 0.6900\n",
            "Epoch 00003: val_accuracy did not improve from 0.59319\n",
            "228/228 [==============================] - 26s 115ms/step - loss: 0.8323 - accuracy: 0.6900 - val_loss: 1.2509 - val_accuracy: 0.5777\n",
            "Epoch 4/10\n",
            "228/228 [==============================] - ETA: 0s - loss: 0.8164 - accuracy: 0.6959\n",
            "Epoch 00004: val_accuracy did not improve from 0.59319\n",
            "228/228 [==============================] - 26s 114ms/step - loss: 0.8164 - accuracy: 0.6959 - val_loss: 1.1823 - val_accuracy: 0.5743\n",
            "Epoch 5/10\n",
            "228/228 [==============================] - ETA: 0s - loss: 0.7890 - accuracy: 0.7042\n",
            "Epoch 00005: val_accuracy improved from 0.59319 to 0.60248, saving model to /content/drive/My Drive/Facial/checkpoint\n",
            "INFO:tensorflow:Assets written to: /content/drive/My Drive/Facial/checkpoint/assets\n",
            "228/228 [==============================] - 47s 205ms/step - loss: 0.7890 - accuracy: 0.7042 - val_loss: 1.1173 - val_accuracy: 0.6025\n",
            "Epoch 6/10\n",
            "228/228 [==============================] - ETA: 0s - loss: 0.7693 - accuracy: 0.7187\n",
            "Epoch 00006: val_accuracy did not improve from 0.60248\n",
            "228/228 [==============================] - 27s 117ms/step - loss: 0.7693 - accuracy: 0.7187 - val_loss: 1.1872 - val_accuracy: 0.5870\n",
            "Epoch 7/10\n",
            "228/228 [==============================] - ETA: 0s - loss: 0.7697 - accuracy: 0.7121\n",
            "Epoch 00007: val_accuracy did not improve from 0.60248\n",
            "228/228 [==============================] - 26s 114ms/step - loss: 0.7697 - accuracy: 0.7121 - val_loss: 1.1593 - val_accuracy: 0.5923\n",
            "Epoch 8/10\n",
            "228/228 [==============================] - ETA: 0s - loss: 0.7445 - accuracy: 0.7250\n",
            "Epoch 00008: ReduceLROnPlateau reducing learning rate to 0.00010000000474974513.\n",
            "\n",
            "Epoch 00008: val_accuracy improved from 0.60248 to 0.60619, saving model to /content/drive/My Drive/Facial/checkpoint\n",
            "INFO:tensorflow:Assets written to: /content/drive/My Drive/Facial/checkpoint/assets\n",
            "228/228 [==============================] - 47s 207ms/step - loss: 0.7445 - accuracy: 0.7250 - val_loss: 1.1649 - val_accuracy: 0.6062\n",
            "Epoch 9/10\n",
            "228/228 [==============================] - ETA: 0s - loss: 0.5889 - accuracy: 0.7817\n",
            "Epoch 00009: val_accuracy improved from 0.60619 to 0.63901, saving model to /content/drive/My Drive/Facial/checkpoint\n",
            "INFO:tensorflow:Assets written to: /content/drive/My Drive/Facial/checkpoint/assets\n",
            "228/228 [==============================] - 48s 211ms/step - loss: 0.5889 - accuracy: 0.7817 - val_loss: 1.0905 - val_accuracy: 0.6390\n",
            "Epoch 10/10\n",
            "228/228 [==============================] - ETA: 0s - loss: 0.5194 - accuracy: 0.8092\n",
            "Epoch 00010: val_accuracy improved from 0.63901 to 0.64985, saving model to /content/drive/My Drive/Facial/checkpoint\n",
            "INFO:tensorflow:Assets written to: /content/drive/My Drive/Facial/checkpoint/assets\n",
            "228/228 [==============================] - 48s 212ms/step - loss: 0.5194 - accuracy: 0.8092 - val_loss: 1.0687 - val_accuracy: 0.6498\n"
          ],
          "name": "stdout"
        }
      ]
    },
    {
      "cell_type": "code",
      "metadata": {
        "id": "vnsSVK2A3o14"
      },
      "source": [
        "#old\n",
        "model.history= model.fit(np.array(X), np.array(Y),\n",
        "                          batch_size=128,callbacks= mycallbacks,\n",
        "                          epochs=20,\n",
        "                          validation_data=(np.array(X_val), np.array(y_val)))\n",
        "model.save('/content/drive/My Drive/Facial/ResNet_old.h5')\n"
      ],
      "execution_count": null,
      "outputs": []
    },
    {
      "cell_type": "code",
      "metadata": {
        "id": "bgERLEMRt9M1",
        "outputId": "d14692d6-74ba-4c53-a825-175d107150f7",
        "colab": {
          "base_uri": "https://localhost:8080/",
          "height": 745
        }
      },
      "source": [
        "#Nada_train\n",
        "model.history= model.fit(dataLoader.get_train_generator(),\n",
        "                          callbacks= mycallbacks,\n",
        "                          epochs=20,\n",
        "                          validation_data=dataLoader.get_valid_generator())\n",
        "model.save('/content/drive/My Drive/Facial/ResNet_nada2.h5')\n"
      ],
      "execution_count": null,
      "outputs": [
        {
          "output_type": "stream",
          "text": [
            "Epoch 1/20\n",
            "228/228 [==============================] - ETA: 0s - loss: 0.5885 - accuracy: 0.7823\n",
            "Epoch 00001: val_accuracy improved from 0.64520 to 0.64582, saving model to /content/drive/My Drive/Facial/checkpoint/ResNet\n",
            "INFO:tensorflow:Assets written to: /content/drive/My Drive/Facial/checkpoint/ResNet/assets\n"
          ],
          "name": "stdout"
        },
        {
          "output_type": "stream",
          "text": [
            "INFO:tensorflow:Assets written to: /content/drive/My Drive/Facial/checkpoint/ResNet/assets\n"
          ],
          "name": "stderr"
        },
        {
          "output_type": "stream",
          "text": [
            "\b\b\b\b\b\b\b\b\b\b\b\b\b\b\b\b\b\b\b\b\b\b\b\b\b\b\b\b\b\b\b\b\b\b\b\b\b\b\b\b\b\b\b\b\b\b\b\b\b\b\b\b\b\b\b\b\b\b\b\b\b\b\b\b\b\b\b\b\b\b\b\b\b\b\b\b\b\b\b\b\b\b\b\b\r228/228 [==============================] - 51s 223ms/step - loss: 0.5885 - accuracy: 0.7823 - val_loss: 1.0595 - val_accuracy: 0.6458\n",
            "Epoch 2/20\n",
            "228/228 [==============================] - ETA: 0s - loss: 0.5848 - accuracy: 0.7844\n",
            "Epoch 00002: val_accuracy did not improve from 0.64582\n",
            "228/228 [==============================] - 30s 133ms/step - loss: 0.5848 - accuracy: 0.7844 - val_loss: 1.0742 - val_accuracy: 0.6316\n",
            "Epoch 3/20\n",
            "228/228 [==============================] - ETA: 0s - loss: 0.5860 - accuracy: 0.7868\n",
            "Epoch 00003: val_accuracy did not improve from 0.64582\n",
            "228/228 [==============================] - 30s 130ms/step - loss: 0.5860 - accuracy: 0.7868 - val_loss: 1.0693 - val_accuracy: 0.6347\n",
            "Epoch 4/20\n",
            "228/228 [==============================] - ETA: 0s - loss: 0.5840 - accuracy: 0.7855\n",
            "Epoch 00004: ReduceLROnPlateau reducing learning rate to 1e-06.\n",
            "\n",
            "Epoch 00004: val_accuracy did not improve from 0.64582\n",
            "228/228 [==============================] - 30s 130ms/step - loss: 0.5840 - accuracy: 0.7855 - val_loss: 1.0465 - val_accuracy: 0.6433\n",
            "Epoch 5/20\n",
            "227/228 [============================>.] - ETA: 0s - loss: 0.5866 - accuracy: 0.7840\n",
            "Epoch 00005: val_accuracy did not improve from 0.64582\n",
            "228/228 [==============================] - 30s 129ms/step - loss: 0.5867 - accuracy: 0.7839 - val_loss: 1.0594 - val_accuracy: 0.6378\n",
            "Epoch 6/20\n",
            "228/228 [==============================] - ETA: 0s - loss: 0.5846 - accuracy: 0.7860\n",
            "Epoch 00006: val_accuracy did not improve from 0.64582\n",
            "228/228 [==============================] - 29s 129ms/step - loss: 0.5846 - accuracy: 0.7860 - val_loss: 1.0470 - val_accuracy: 0.6328\n",
            "Epoch 7/20\n",
            "228/228 [==============================] - ETA: 0s - loss: 0.5849 - accuracy: 0.7858\n",
            "Epoch 00007: val_accuracy did not improve from 0.64582\n",
            "228/228 [==============================] - 29s 129ms/step - loss: 0.5849 - accuracy: 0.7858 - val_loss: 1.0623 - val_accuracy: 0.6365\n",
            "Epoch 8/20\n",
            "228/228 [==============================] - ETA: 0s - loss: 0.5877 - accuracy: 0.7822\n",
            "Epoch 00008: val_accuracy did not improve from 0.64582\n",
            "228/228 [==============================] - 30s 130ms/step - loss: 0.5877 - accuracy: 0.7822 - val_loss: 1.0619 - val_accuracy: 0.6341\n",
            "Epoch 9/20\n",
            "228/228 [==============================] - ETA: 0s - loss: 0.5868 - accuracy: 0.7832Restoring model weights from the end of the best epoch.\n",
            "\n",
            "Epoch 00009: val_accuracy did not improve from 0.64582\n",
            "228/228 [==============================] - 29s 129ms/step - loss: 0.5868 - accuracy: 0.7832 - val_loss: 1.0702 - val_accuracy: 0.6362\n",
            "Epoch 00009: early stopping\n"
          ],
          "name": "stdout"
        }
      ]
    },
    {
      "cell_type": "code",
      "metadata": {
        "id": "bGZyxIUgu11D",
        "outputId": "0c7316a8-86a5-4c29-e315-e9c1ee0ea465",
        "colab": {
          "base_uri": "https://localhost:8080/",
          "height": 590
        }
      },
      "source": [
        "from matplotlib import pyplot as plt\n",
        "print(model.history.history.keys())\n",
        "#  \"Accuracy\"\n",
        "plt.plot(model.history.history['accuracy'])\n",
        "plt.plot(model.history.history['val_accuracy'])\n",
        "plt.title('model accuracy')\n",
        "plt.ylabel('accuracy')\n",
        "plt.xlabel('epoch')\n",
        "plt.legend(['train', 'validation'], loc='upper left')\n",
        "plt.show()\n",
        "# \"Loss\"\n",
        "plt.plot(model.history.history['loss'])\n",
        "plt.plot(model.history.history['val_loss'])\n",
        "plt.title('model loss')\n",
        "plt.ylabel('loss')\n",
        "plt.xlabel('epoch')\n",
        "plt.legend(['train', 'validation'], loc='upper left')\n",
        "plt.show()"
      ],
      "execution_count": null,
      "outputs": [
        {
          "output_type": "stream",
          "text": [
            "dict_keys(['loss', 'accuracy', 'val_loss', 'val_accuracy', 'lr'])\n"
          ],
          "name": "stdout"
        },
        {
          "output_type": "display_data",
          "data": {
            "image/png": "[encoded data removed]",
            "text/plain": [
              "<Figure size 432x288 with 1 Axes>"
            ]
          },
          "metadata": {
            "tags": [],
            "needs_background": "light"
          }
        },
        {
          "output_type": "display_data",
          "data": {
            "image/png": "[encoded data removed]",
            "text/plain": [
              "<Figure size 432x288 with 1 Axes>"
            ]
          },
          "metadata": {
            "tags": [],
            "needs_background": "light"
          }
        }
      ]
    },
    {
      "cell_type": "markdown",
      "metadata": {
        "id": "KNQDWC4yKb-7"
      },
      "source": [
        "## Load weights"
      ]
    },
    {
      "cell_type": "code",
      "metadata": {
        "id": "_9URUJHRKhdx"
      },
      "source": [
        "weightsFile = '/content/drive/My Drive/Facial/ResNet1.h5'\n",
        "model.load_weights(weightsFile)"
      ],
      "execution_count": null,
      "outputs": []
    },
    {
      "cell_type": "markdown",
      "metadata": {
        "id": "dRsyDzEYKJcH"
      },
      "source": [
        "## Plotting"
      ]
    },
    {
      "cell_type": "code",
      "metadata": {
        "id": "G48jTPzqEKkJ",
        "outputId": "8c38ad89-7bd5-44f0-8303-0424d1bbda0a",
        "colab": {
          "base_uri": "https://localhost:8080/",
          "height": 590
        }
      },
      "source": [
        "from matplotlib import pyplot as plt\n",
        "print(history.history.keys())\n",
        "#  \"Accuracy\"\n",
        "plt.plot(history.history['accuracy'])\n",
        "plt.plot(history.history['val_accuracy'])\n",
        "plt.title('model accuracy')\n",
        "plt.ylabel('accuracy')\n",
        "plt.xlabel('epoch')\n",
        "plt.legend(['train', 'validation'], loc='upper left')\n",
        "plt.show()\n",
        "# \"Loss\"\n",
        "plt.plot(history.history['loss'])\n",
        "plt.plot(history.history['val_loss'])\n",
        "plt.title('model loss')\n",
        "plt.ylabel('loss')\n",
        "plt.xlabel('epoch')\n",
        "plt.legend(['train', 'validation'], loc='upper left')\n",
        "plt.show()"
      ],
      "execution_count": null,
      "outputs": [
        {
          "output_type": "stream",
          "text": [
            "dict_keys(['loss', 'accuracy', 'val_loss', 'val_accuracy', 'lr'])\n"
          ],
          "name": "stdout"
        },
        {
          "output_type": "display_data",
          "data": {
            "image/png": "[encoded data removed]",
            "text/plain": [
              "<Figure size 432x288 with 1 Axes>"
            ]
          },
          "metadata": {
            "tags": [],
            "needs_background": "light"
          }
        },
        {
          "output_type": "display_data",
          "data": {
            "image/png": "[encoded data removed]",
            "text/plain": [
              "<Figure size 432x288 with 1 Axes>"
            ]
          },
          "metadata": {
            "tags": [],
            "needs_background": "light"
          }
        }
      ]
    },
    {
      "cell_type": "markdown",
      "metadata": {
        "id": "gFFC7MSFdLIG"
      },
      "source": [
        "# VGG Model"
      ]
    },
    {
      "cell_type": "markdown",
      "metadata": {
        "id": "hfBF31QzdDcP"
      },
      "source": [
        "## Build Model"
      ]
    },
    {
      "cell_type": "code",
      "metadata": {
        "id": "Cd_ZUj-sDSCU"
      },
      "source": [
        "from keras.layers import Dense , Activation , Dropout ,Flatten\n",
        "from tensorflow.keras.applications.vgg16 import VGG16\n",
        "from tensorflow.keras import models\n",
        "from tensorflow.keras import layers\n",
        "def VGGModel():\n",
        "  inputs = keras.Input(shape=(48,48,3))\n",
        "  conv_base = VGG16(weights='imagenet', include_top=False, input_shape=(48, 48, 3)) # Init the VGG model \n",
        "  conv_base.trainable = False   # Freeze all the layers\n",
        "  conv_base = conv_base(inputs, training=False)\n",
        "\n",
        "  flat = layers.Flatten()(conv_base)\n",
        "  dense = layers.Dense(256,activation='relu')(flat)\n",
        "  out = layers.Dense(7, activation='softmax')(dense)\n",
        "\n",
        "  model = models.Model(inputs=inputs, outputs=out)\n",
        "\n",
        "  model.compile(optimizer='Adam', loss='categorical_crossentropy', metrics=['accuracy'])\n",
        "  return model\n",
        "\n"
      ],
      "execution_count": null,
      "outputs": []
    },
    {
      "cell_type": "code",
      "metadata": {
        "id": "KQE0muqHFn3E",
        "outputId": "93b08106-b243-4392-aaf4-9dff7b42b174",
        "colab": {
          "base_uri": "https://localhost:8080/",
          "height": 377
        }
      },
      "source": [
        "model = VGGModel()\n",
        "model.summary()"
      ],
      "execution_count": null,
      "outputs": [
        {
          "output_type": "stream",
          "text": [
            "Downloading data from https://storage.googleapis.com/tensorflow/keras-applications/vgg16/vgg16_weights_tf_dim_ordering_tf_kernels_notop.h5\n",
            "58892288/58889256 [==============================] - 1s 0us/step\n",
            "Model: \"functional_3\"\n",
            "_________________________________________________________________\n",
            "Layer (type)                 Output Shape              Param #   \n",
            "=================================================================\n",
            "input_2 (InputLayer)         [(None, 48, 48, 3)]       0         \n",
            "_________________________________________________________________\n",
            "vgg16 (Functional)           (None, 1, 1, 512)         14714688  \n",
            "_________________________________________________________________\n",
            "flatten (Flatten)            (None, 512)               0         \n",
            "_________________________________________________________________\n",
            "dense_2 (Dense)              (None, 256)               131328    \n",
            "_________________________________________________________________\n",
            "dense_3 (Dense)              (None, 7)                 1799      \n",
            "=================================================================\n",
            "Total params: 14,847,815\n",
            "Trainable params: 133,127\n",
            "Non-trainable params: 14,714,688\n",
            "_________________________________________________________________\n"
          ],
          "name": "stdout"
        }
      ]
    },
    {
      "cell_type": "markdown",
      "metadata": {
        "id": "BLRUgjhdc53c"
      },
      "source": [
        "## Train Model"
      ]
    },
    {
      "cell_type": "code",
      "metadata": {
        "id": "lzTsmuDsf7hM",
        "outputId": "d7a93528-f8a7-408a-afcd-478c3626bf72",
        "colab": {
          "base_uri": "https://localhost:8080/",
          "height": 231
        }
      },
      "source": [
        "history= model.fit(np.array(X_train), np.array(y_train),\n",
        "                          batch_size=128,\n",
        "                          epochs=5,\n",
        "                          validation_data=(np.array(X_val), np.array(y_val)))\n",
        "model.save('../content/drive/My Drive/Facial/VGG_attempt2.h5')"
      ],
      "execution_count": null,
      "outputs": [
        {
          "output_type": "error",
          "ename": "NameError",
          "evalue": "ignored",
          "traceback": [
            "\u001b[0;31m---------------------------------------------------------------------------\u001b[0m",
            "\u001b[0;31mNameError\u001b[0m                                 Traceback (most recent call last)",
            "\u001b[0;32m<ipython-input-28-004c7ce1657d>\u001b[0m in \u001b[0;36m<module>\u001b[0;34m()\u001b[0m\n\u001b[0;32m----> 1\u001b[0;31m history= model.fit(np.array(X_train), np.array(y_train),\n\u001b[0m\u001b[1;32m      2\u001b[0m                           \u001b[0mbatch_size\u001b[0m\u001b[0;34m=\u001b[0m\u001b[0;36m128\u001b[0m\u001b[0;34m,\u001b[0m\u001b[0;34m\u001b[0m\u001b[0;34m\u001b[0m\u001b[0m\n\u001b[1;32m      3\u001b[0m                           \u001b[0mepochs\u001b[0m\u001b[0;34m=\u001b[0m\u001b[0;36m5\u001b[0m\u001b[0;34m,\u001b[0m\u001b[0;34m\u001b[0m\u001b[0;34m\u001b[0m\u001b[0m\n\u001b[1;32m      4\u001b[0m                           validation_data=(np.array(X_val), np.array(y_val)))\n\u001b[1;32m      5\u001b[0m \u001b[0mmodel\u001b[0m\u001b[0;34m.\u001b[0m\u001b[0msave\u001b[0m\u001b[0;34m(\u001b[0m\u001b[0;34m'../content/drive/My Drive/Facial/VGG_attempt2.h5'\u001b[0m\u001b[0;34m)\u001b[0m\u001b[0;34m\u001b[0m\u001b[0;34m\u001b[0m\u001b[0m\n",
            "\u001b[0;31mNameError\u001b[0m: name 'X_train' is not defined"
          ]
        }
      ]
    },
    {
      "cell_type": "markdown",
      "metadata": {
        "id": "PlUKXGBSeB4y"
      },
      "source": [
        "## Load weights"
      ]
    },
    {
      "cell_type": "code",
      "metadata": {
        "id": "6V9EHdPdfr-N"
      },
      "source": [
        "weightsFile = '/content/drive/My Drive/Facial/VGG_first_attempt.h5'\n",
        "model.load_weights(weightsFile)"
      ],
      "execution_count": null,
      "outputs": []
    },
    {
      "cell_type": "markdown",
      "metadata": {
        "id": "MRHgqeVweNA3"
      },
      "source": [
        "## Plotting"
      ]
    },
    {
      "cell_type": "code",
      "metadata": {
        "id": "yHyw4EFD1_BD"
      },
      "source": [
        "from matplotlib import pyplot as plt\n",
        "print(history.history.keys())\n",
        "#  \"Accuracy\"\n",
        "plt.plot(history.history['accuracy'])\n",
        "plt.plot(history.history['val_accuracy'])\n",
        "plt.title('model accuracy')\n",
        "plt.ylabel('accuracy')\n",
        "plt.xlabel('epoch')\n",
        "plt.legend(['train', 'validation'], loc='upper left')\n",
        "plt.show()\n",
        "# \"Loss\"\n",
        "plt.plot(history.history['loss'])\n",
        "plt.plot(history.history['val_loss'])\n",
        "plt.title('model loss')\n",
        "plt.ylabel('loss')\n",
        "plt.xlabel('epoch')\n",
        "plt.legend(['train', 'validation'], loc='upper left')\n",
        "plt.show()"
      ],
      "execution_count": null,
      "outputs": []
    },
    {
      "cell_type": "markdown",
      "metadata": {
        "id": "ws6yT4vDetqC"
      },
      "source": [
        "# Save and Load history"
      ]
    },
    {
      "cell_type": "code",
      "metadata": {
        "id": "8CU1wb2mtvua"
      },
      "source": [
        "#append history to .csv file\n",
        "import pandas as pd\n",
        "pd.DataFrame.from_dict(history.history).to_csv('/content/drive/My Drive/Facial/history.csv', mode='a', index=False)"
      ],
      "execution_count": null,
      "outputs": []
    },
    {
      "cell_type": "code",
      "metadata": {
        "id": "qGTt3C7XvAgj",
        "outputId": "2fd2f66f-fb65-4512-f25d-8446a8306ef6",
        "colab": {
          "base_uri": "https://localhost:8080/",
          "height": 669
        }
      },
      "source": [
        "#read history from .csv file\n",
        "log_data = pd.read_csv('/content/drive/My Drive/Facial/history.csv', sep=',', engine='python')\n",
        "log_data\n",
        "# remove row 5 from log_data \n",
        "#log_data.drop(10,inplace=True) \n",
        "# save log_data to .csv\n",
        "#log_data.to_csv('/content/drive/My Drive/Facial/history.csv',index=False) "
      ],
      "execution_count": null,
      "outputs": [
        {
          "output_type": "execute_result",
          "data": {
            "text/html": [
              "<div>\n",
              "<style scoped>\n",
              "    .dataframe tbody tr th:only-of-type {\n",
              "        vertical-align: middle;\n",
              "    }\n",
              "\n",
              "    .dataframe tbody tr th {\n",
              "        vertical-align: top;\n",
              "    }\n",
              "\n",
              "    .dataframe thead th {\n",
              "        text-align: right;\n",
              "    }\n",
              "</style>\n",
              "<table border=\"1\" class=\"dataframe\">\n",
              "  <thead>\n",
              "    <tr style=\"text-align: right;\">\n",
              "      <th></th>\n",
              "      <th>loss</th>\n",
              "      <th>accuracy</th>\n",
              "      <th>val_loss</th>\n",
              "      <th>val_accuracy</th>\n",
              "      <th>lr</th>\n",
              "    </tr>\n",
              "  </thead>\n",
              "  <tbody>\n",
              "    <tr>\n",
              "      <th>0</th>\n",
              "      <td>1.504621</td>\n",
              "      <td>0.444372</td>\n",
              "      <td>1.847530</td>\n",
              "      <td>0.171517</td>\n",
              "      <td>0.0010</td>\n",
              "    </tr>\n",
              "    <tr>\n",
              "      <th>1</th>\n",
              "      <td>1.191080</td>\n",
              "      <td>0.550261</td>\n",
              "      <td>1.801749</td>\n",
              "      <td>0.315480</td>\n",
              "      <td>0.0010</td>\n",
              "    </tr>\n",
              "    <tr>\n",
              "      <th>2</th>\n",
              "      <td>1.111553</td>\n",
              "      <td>0.585145</td>\n",
              "      <td>1.401298</td>\n",
              "      <td>0.482353</td>\n",
              "      <td>0.0010</td>\n",
              "    </tr>\n",
              "    <tr>\n",
              "      <th>3</th>\n",
              "      <td>1.058406</td>\n",
              "      <td>0.603172</td>\n",
              "      <td>1.394452</td>\n",
              "      <td>0.496594</td>\n",
              "      <td>0.0010</td>\n",
              "    </tr>\n",
              "    <tr>\n",
              "      <th>4</th>\n",
              "      <td>1.034836</td>\n",
              "      <td>0.611428</td>\n",
              "      <td>1.373781</td>\n",
              "      <td>0.540867</td>\n",
              "      <td>0.0010</td>\n",
              "    </tr>\n",
              "    <tr>\n",
              "      <th>5</th>\n",
              "      <td>1.027642</td>\n",
              "      <td>0.616554</td>\n",
              "      <td>1.159592</td>\n",
              "      <td>0.575542</td>\n",
              "      <td>0.0010</td>\n",
              "    </tr>\n",
              "    <tr>\n",
              "      <th>6</th>\n",
              "      <td>1.006174</td>\n",
              "      <td>0.625052</td>\n",
              "      <td>1.181600</td>\n",
              "      <td>0.573065</td>\n",
              "      <td>0.0010</td>\n",
              "    </tr>\n",
              "    <tr>\n",
              "      <th>7</th>\n",
              "      <td>0.962542</td>\n",
              "      <td>0.641358</td>\n",
              "      <td>1.154200</td>\n",
              "      <td>0.584520</td>\n",
              "      <td>0.0010</td>\n",
              "    </tr>\n",
              "    <tr>\n",
              "      <th>8</th>\n",
              "      <td>0.918399</td>\n",
              "      <td>0.656667</td>\n",
              "      <td>1.152663</td>\n",
              "      <td>0.573065</td>\n",
              "      <td>0.0010</td>\n",
              "    </tr>\n",
              "    <tr>\n",
              "      <th>9</th>\n",
              "      <td>0.899849</td>\n",
              "      <td>0.661036</td>\n",
              "      <td>1.189062</td>\n",
              "      <td>0.593189</td>\n",
              "      <td>0.0010</td>\n",
              "    </tr>\n",
              "    <tr>\n",
              "      <th>10</th>\n",
              "      <td>0.878999</td>\n",
              "      <td>0.672182</td>\n",
              "      <td>1.283472</td>\n",
              "      <td>0.573994</td>\n",
              "      <td>0.0010</td>\n",
              "    </tr>\n",
              "    <tr>\n",
              "      <th>11</th>\n",
              "      <td>0.851923</td>\n",
              "      <td>0.684326</td>\n",
              "      <td>1.178333</td>\n",
              "      <td>0.579567</td>\n",
              "      <td>0.0010</td>\n",
              "    </tr>\n",
              "    <tr>\n",
              "      <th>12</th>\n",
              "      <td>0.832338</td>\n",
              "      <td>0.690037</td>\n",
              "      <td>1.250948</td>\n",
              "      <td>0.577709</td>\n",
              "      <td>0.0010</td>\n",
              "    </tr>\n",
              "    <tr>\n",
              "      <th>13</th>\n",
              "      <td>0.816443</td>\n",
              "      <td>0.695851</td>\n",
              "      <td>1.182297</td>\n",
              "      <td>0.574303</td>\n",
              "      <td>0.0010</td>\n",
              "    </tr>\n",
              "    <tr>\n",
              "      <th>14</th>\n",
              "      <td>0.788982</td>\n",
              "      <td>0.704176</td>\n",
              "      <td>1.117269</td>\n",
              "      <td>0.602477</td>\n",
              "      <td>0.0010</td>\n",
              "    </tr>\n",
              "    <tr>\n",
              "      <th>15</th>\n",
              "      <td>0.769256</td>\n",
              "      <td>0.718728</td>\n",
              "      <td>1.187235</td>\n",
              "      <td>0.586997</td>\n",
              "      <td>0.0010</td>\n",
              "    </tr>\n",
              "    <tr>\n",
              "      <th>16</th>\n",
              "      <td>0.769719</td>\n",
              "      <td>0.712123</td>\n",
              "      <td>1.159268</td>\n",
              "      <td>0.592260</td>\n",
              "      <td>0.0010</td>\n",
              "    </tr>\n",
              "    <tr>\n",
              "      <th>17</th>\n",
              "      <td>0.744498</td>\n",
              "      <td>0.725024</td>\n",
              "      <td>1.164890</td>\n",
              "      <td>0.606192</td>\n",
              "      <td>0.0010</td>\n",
              "    </tr>\n",
              "    <tr>\n",
              "      <th>18</th>\n",
              "      <td>0.588920</td>\n",
              "      <td>0.781684</td>\n",
              "      <td>1.090520</td>\n",
              "      <td>0.639009</td>\n",
              "      <td>0.0001</td>\n",
              "    </tr>\n",
              "    <tr>\n",
              "      <th>19</th>\n",
              "      <td>0.519404</td>\n",
              "      <td>0.809206</td>\n",
              "      <td>1.068685</td>\n",
              "      <td>0.649845</td>\n",
              "      <td>0.0001</td>\n",
              "    </tr>\n",
              "  </tbody>\n",
              "</table>\n",
              "</div>"
            ],
            "text/plain": [
              "        loss  accuracy  val_loss  val_accuracy      lr\n",
              "0   1.504621  0.444372  1.847530      0.171517  0.0010\n",
              "1   1.191080  0.550261  1.801749      0.315480  0.0010\n",
              "2   1.111553  0.585145  1.401298      0.482353  0.0010\n",
              "3   1.058406  0.603172  1.394452      0.496594  0.0010\n",
              "4   1.034836  0.611428  1.373781      0.540867  0.0010\n",
              "5   1.027642  0.616554  1.159592      0.575542  0.0010\n",
              "6   1.006174  0.625052  1.181600      0.573065  0.0010\n",
              "7   0.962542  0.641358  1.154200      0.584520  0.0010\n",
              "8   0.918399  0.656667  1.152663      0.573065  0.0010\n",
              "9   0.899849  0.661036  1.189062      0.593189  0.0010\n",
              "10  0.878999  0.672182  1.283472      0.573994  0.0010\n",
              "11  0.851923  0.684326  1.178333      0.579567  0.0010\n",
              "12  0.832338  0.690037  1.250948      0.577709  0.0010\n",
              "13  0.816443  0.695851  1.182297      0.574303  0.0010\n",
              "14  0.788982  0.704176  1.117269      0.602477  0.0010\n",
              "15  0.769256  0.718728  1.187235      0.586997  0.0010\n",
              "16  0.769719  0.712123  1.159268      0.592260  0.0010\n",
              "17  0.744498  0.725024  1.164890      0.606192  0.0010\n",
              "18  0.588920  0.781684  1.090520      0.639009  0.0001\n",
              "19  0.519404  0.809206  1.068685      0.649845  0.0001"
            ]
          },
          "metadata": {
            "tags": []
          },
          "execution_count": 54
        }
      ]
    },
    {
      "cell_type": "code",
      "metadata": {
        "id": "qGmdWzOQvKmO",
        "outputId": "9ce67172-a531-4915-f9f4-50bd0b2a351c",
        "colab": {
          "base_uri": "https://localhost:8080/",
          "height": 573
        }
      },
      "source": [
        "# \"Accuracy\"\n",
        "plt.plot([float(line) for line in log_data['accuracy']])\n",
        "plt.plot([float(line) for line in log_data['val_accuracy']])\n",
        "plt.title('model accuracy')\n",
        "plt.ylabel('accuracy')\n",
        "plt.xlabel('epoch')\n",
        "plt.legend(['train', 'validation'], loc='upper left')\n",
        "plt.show()\n",
        "# \"Loss\"\n",
        "plt.plot([float(line) for line in log_data['loss']])\n",
        "plt.plot([float(line) for line in log_data['val_loss']])\n",
        "plt.title('model loss')\n",
        "plt.ylabel('loss')\n",
        "plt.xlabel('epoch')\n",
        "plt.legend(['train', 'validation'], loc='upper left')\n",
        "plt.show()"
      ],
      "execution_count": null,
      "outputs": [
        {
          "output_type": "display_data",
          "data": {
            "image/png": "[encoded data removed]",
            "text/plain": [
              "<Figure size 432x288 with 1 Axes>"
            ]
          },
          "metadata": {
            "tags": [],
            "needs_background": "light"
          }
        },
        {
          "output_type": "display_data",
          "data": {
            "image/png": "[encoded data removed]",
            "text/plain": [
              "<Figure size 432x288 with 1 Axes>"
            ]
          },
          "metadata": {
            "tags": [],
            "needs_background": "light"
          }
        }
      ]
    }
  ]
}